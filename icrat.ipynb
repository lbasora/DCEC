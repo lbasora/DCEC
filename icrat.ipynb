{
 "cells": [
  {
   "cell_type": "code",
   "execution_count": 1,
   "metadata": {},
   "outputs": [
    {
     "name": "stderr",
     "output_type": "stream",
     "text": [
      "/home/richard/anaconda3/envs/artefact/lib/python3.7/site-packages/pkg_resources/__init__.py:1151: DeprecationWarning: Use of .. or absolute path in a resource path is not allowed and will raise exceptions in a future release.\n",
      "  self, resource_name\n",
      "/home/richard/anaconda3/envs/artefact/lib/python3.7/site-packages/ipyleaflet/leaflet.py:317: DeprecationWarning: metadata {'dtype': None} was set from the constructor. With traitlets 4.1, metadata should be set using the .tag() method, e.g., Int().tag(key1='value1', key2='value2')\n",
      "  data = Dataset().tag(dtype=None, sync=True, to_json=ds_x_to_json)\n",
      "Using TensorFlow backend.\n",
      "/home/richard/anaconda3/envs/artefact/lib/python3.7/site-packages/keras/callbacks/callbacks.py:19: DeprecationWarning: Using or importing the ABCs from 'collections' instead of from 'collections.abc' is deprecated since Python 3.3,and in 3.9 it will stop working\n",
      "  from collections import Iterable\n"
     ]
    }
   ],
   "source": [
    "%matplotlib inline\n",
    "%load_ext lab_black\n",
    "import os\n",
    "from dcec.utils import input_shape, input_shape1d, input_shape_dense\n",
    "from dcec.model import CAE, CAE1d, dense\n",
    "\n",
    "list_features = [\"track_unwrapped\", \"longitude\", \"latitude\", \"altitude\"]\n",
    "nb_features = len(list_features)\n",
    "nb_samples = 64\n",
    "flow = \"162-216\"\n",
    "runway = \"14\"\n",
    "\n",
    "data_dir = \"./data\"\n",
    "res_dir = \"./res\"\n",
    "\n",
    "files = [\"lszh\", f\"lszh_{runway}\", f\"lszh_{flow}_{runway}\"]\n",
    "lambda_kls = [0.0, 0.07, 0.5]\n",
    "\n",
    "refresh_figs = True\n",
    "\n",
    "# CAE2D\n",
    "# sel_input_shape, sel_cae = input_shape, CAE\n",
    "\n",
    "# CAE1D\n",
    "# sel_input_shape, sel_cae = input_shape1d, CAE1d\n",
    "\n",
    "# dense\n",
    "sel_input_shape, sel_cae = input_shape_dense, dense\n",
    "\n",
    "\n",
    "def param(p):\n",
    "    return str(p).replace(\".\", \"_\")"
   ]
  },
  {
   "cell_type": "code",
   "execution_count": 2,
   "metadata": {},
   "outputs": [],
   "source": [
    "# Generating data\n",
    "if not os.path.exists(f\"{data_dir}_{nb_samples}\"):\n",
    "    from traffic.data.datasets import landing_zurich_2019 as t\n",
    "\n",
    "    os.makedirs(f\"{data_dir}_{nb_samples}\")\n",
    "\n",
    "    path = f\"{data_dir}_{nb_samples}/lszh.parquet\"\n",
    "    if not os.path.exists(path):\n",
    "        print(f\"Generating data for full traffic...\")\n",
    "        t_r = (\n",
    "            t.query(\"track == track\")\n",
    "            .resample(nb_samples)\n",
    "            .unwrap(\"track\")\n",
    "            .eval(max_workers=10)\n",
    "        )\n",
    "        t_r.to_parquet(path)\n",
    "\n",
    "    path = f\"{data_dir}_{nb_samples}/lszh_{runway}.parquet\"\n",
    "    if not os.path.exists(path):\n",
    "        print(f\"Generating data for {flow} and {runway}...\")\n",
    "        t_r = (\n",
    "            t.query(f\"track == track and runway =='{runway}'\")\n",
    "            .resample(nb_samples)\n",
    "            .unwrap(\"track\")\n",
    "            .eval(max_workers=10)\n",
    "        )\n",
    "        t_r.to_parquet(path)\n",
    "\n",
    "    path = f\"{data_dir}_{nb_samples}/lszh_{flow}_{runway}.parquet\"\n",
    "    if not os.path.exists(path):\n",
    "        print(f\"Generating data for {flow} and {runway}...\")\n",
    "        t_r = (\n",
    "            t.query(\n",
    "                f\"track == track and initial_flow == '{flow}' and runway =='{runway}'\"\n",
    "            )\n",
    "            .resample(nb_samples)\n",
    "            .unwrap(\"track\")\n",
    "            .eval(max_workers=10)\n",
    "        )\n",
    "        t_r.to_parquet(path)"
   ]
  },
  {
   "cell_type": "code",
   "execution_count": 3,
   "metadata": {},
   "outputs": [
    {
     "name": "stdout",
     "output_type": "stream",
     "text": [
      "Training autoencoder with data lszh and lambda_kl 0.0...\n"
     ]
    },
    {
     "name": "stderr",
     "output_type": "stream",
     "text": [
      "/home/richard/anaconda3/envs/artefact/lib/python3.7/site-packages/pyarrow/pandas_compat.py:294: DeprecationWarning: Using or importing the ABCs from 'collections' instead of from 'collections.abc' is deprecated since Python 3.3,and in 3.9 it will stop working\n",
      "  elif isinstance(name, collections.Sequence):\n"
     ]
    },
    {
     "name": "stdout",
     "output_type": "stream",
     "text": [
      "encoder Sequential(\n",
      "  (0): Linear(in_features=256, out_features=32, bias=True)\n",
      "  (1): ReLU()\n",
      "  (2): Linear(in_features=32, out_features=8, bias=True)\n",
      "  (3): ReLU()\n",
      "  (4): Linear(in_features=8, out_features=2, bias=True)\n",
      ")\n",
      "decoder Sequential(\n",
      "  (0): Linear(in_features=2, out_features=8, bias=True)\n",
      "  (1): ReLU()\n",
      "  (2): Linear(in_features=8, out_features=32, bias=True)\n",
      "  (3): ReLU()\n",
      "  (4): Linear(in_features=32, out_features=256, bias=True)\n",
      "  (5): Sigmoid()\n",
      ")\n"
     ]
    },
    {
     "data": {
      "application/vnd.jupyter.widget-view+json": {
       "model_id": "841b983ce0bf41148d7e5a879d2d27d6",
       "version_major": 2,
       "version_minor": 0
      },
      "text/plain": [
       "HBox(children=(IntProgress(value=0, description='batches', max=1, style=ProgressStyle(description_width='initi…"
      ]
     },
     "metadata": {},
     "output_type": "display_data"
    },
    {
     "data": {
      "application/vnd.jupyter.widget-view+json": {
       "model_id": "517a1a89d1914699baaf0209686616ac",
       "version_major": 2,
       "version_minor": 0
      },
      "text/plain": [
       "HBox(children=(IntProgress(value=0, max=5000), HTML(value='')))"
      ]
     },
     "metadata": {},
     "output_type": "display_data"
    },
    {
     "name": "stdout",
     "output_type": "stream",
     "text": [
      "\n",
      "Training autoencoder with data lszh and lambda_kl 0.07...\n",
      "encoder Sequential(\n",
      "  (0): Linear(in_features=256, out_features=32, bias=True)\n",
      "  (1): ReLU()\n",
      "  (2): Linear(in_features=32, out_features=8, bias=True)\n",
      "  (3): ReLU()\n",
      "  (4): Linear(in_features=8, out_features=2, bias=True)\n",
      ")\n",
      "decoder Sequential(\n",
      "  (0): Linear(in_features=2, out_features=8, bias=True)\n",
      "  (1): ReLU()\n",
      "  (2): Linear(in_features=8, out_features=32, bias=True)\n",
      "  (3): ReLU()\n",
      "  (4): Linear(in_features=32, out_features=256, bias=True)\n",
      "  (5): Sigmoid()\n",
      ")\n"
     ]
    },
    {
     "data": {
      "application/vnd.jupyter.widget-view+json": {
       "model_id": "476db10e95e54a81a472398ec80dcfba",
       "version_major": 2,
       "version_minor": 0
      },
      "text/plain": [
       "HBox(children=(IntProgress(value=0, description='batches', max=20, style=ProgressStyle(description_width='init…"
      ]
     },
     "metadata": {},
     "output_type": "display_data"
    },
    {
     "data": {
      "application/vnd.jupyter.widget-view+json": {
       "model_id": "36df1e9fe09641409a0e829885e7ba14",
       "version_major": 2,
       "version_minor": 0
      },
      "text/plain": [
       "HBox(children=(IntProgress(value=0, max=800), HTML(value='')))"
      ]
     },
     "metadata": {},
     "output_type": "display_data"
    },
    {
     "data": {
      "application/vnd.jupyter.widget-view+json": {
       "model_id": "2dcb58c07f224c568e333926d0ce7ed9",
       "version_major": 2,
       "version_minor": 0
      },
      "text/plain": [
       "HBox(children=(IntProgress(value=0, max=800), HTML(value='')))"
      ]
     },
     "metadata": {},
     "output_type": "display_data"
    },
    {
     "data": {
      "application/vnd.jupyter.widget-view+json": {
       "model_id": "44cedf0cf53b42acb185238e7e2dcfa8",
       "version_major": 2,
       "version_minor": 0
      },
      "text/plain": [
       "HBox(children=(IntProgress(value=0, max=800), HTML(value='')))"
      ]
     },
     "metadata": {},
     "output_type": "display_data"
    },
    {
     "data": {
      "application/vnd.jupyter.widget-view+json": {
       "model_id": "2b1d9a5b1ff047cf8a21bc0fe8336719",
       "version_major": 2,
       "version_minor": 0
      },
      "text/plain": [
       "HBox(children=(IntProgress(value=0, max=800), HTML(value='')))"
      ]
     },
     "metadata": {},
     "output_type": "display_data"
    },
    {
     "data": {
      "application/vnd.jupyter.widget-view+json": {
       "model_id": "566028be72114cfaa371b1aaecb5c286",
       "version_major": 2,
       "version_minor": 0
      },
      "text/plain": [
       "HBox(children=(IntProgress(value=0, max=800), HTML(value='')))"
      ]
     },
     "metadata": {},
     "output_type": "display_data"
    },
    {
     "data": {
      "application/vnd.jupyter.widget-view+json": {
       "model_id": "c31a5c552ce54d1499f888914300122b",
       "version_major": 2,
       "version_minor": 0
      },
      "text/plain": [
       "HBox(children=(IntProgress(value=0, max=800), HTML(value='')))"
      ]
     },
     "metadata": {},
     "output_type": "display_data"
    },
    {
     "data": {
      "application/vnd.jupyter.widget-view+json": {
       "model_id": "1cb4ae4dbd5f4cfcb3e6f26cb0b3470d",
       "version_major": 2,
       "version_minor": 0
      },
      "text/plain": [
       "HBox(children=(IntProgress(value=0, max=800), HTML(value='')))"
      ]
     },
     "metadata": {},
     "output_type": "display_data"
    },
    {
     "data": {
      "application/vnd.jupyter.widget-view+json": {
       "model_id": "732b025891594e4297fbbcf20025ed38",
       "version_major": 2,
       "version_minor": 0
      },
      "text/plain": [
       "HBox(children=(IntProgress(value=0, max=800), HTML(value='')))"
      ]
     },
     "metadata": {},
     "output_type": "display_data"
    },
    {
     "data": {
      "application/vnd.jupyter.widget-view+json": {
       "model_id": "d60048d93163459288783978105e98b2",
       "version_major": 2,
       "version_minor": 0
      },
      "text/plain": [
       "HBox(children=(IntProgress(value=0, max=800), HTML(value='')))"
      ]
     },
     "metadata": {},
     "output_type": "display_data"
    },
    {
     "data": {
      "application/vnd.jupyter.widget-view+json": {
       "model_id": "936e71909e024c52a0a2ff5ff49d3a68",
       "version_major": 2,
       "version_minor": 0
      },
      "text/plain": [
       "HBox(children=(IntProgress(value=0, max=800), HTML(value='')))"
      ]
     },
     "metadata": {},
     "output_type": "display_data"
    },
    {
     "data": {
      "application/vnd.jupyter.widget-view+json": {
       "model_id": "a072c8699c2f4daab16649588c05f5ec",
       "version_major": 2,
       "version_minor": 0
      },
      "text/plain": [
       "HBox(children=(IntProgress(value=0, max=800), HTML(value='')))"
      ]
     },
     "metadata": {},
     "output_type": "display_data"
    },
    {
     "data": {
      "application/vnd.jupyter.widget-view+json": {
       "model_id": "bd589e8d773848a292bff914536255ef",
       "version_major": 2,
       "version_minor": 0
      },
      "text/plain": [
       "HBox(children=(IntProgress(value=0, max=800), HTML(value='')))"
      ]
     },
     "metadata": {},
     "output_type": "display_data"
    },
    {
     "data": {
      "application/vnd.jupyter.widget-view+json": {
       "model_id": "e327cadc35d64223bc257d0215b78c38",
       "version_major": 2,
       "version_minor": 0
      },
      "text/plain": [
       "HBox(children=(IntProgress(value=0, max=800), HTML(value='')))"
      ]
     },
     "metadata": {},
     "output_type": "display_data"
    },
    {
     "data": {
      "application/vnd.jupyter.widget-view+json": {
       "model_id": "cc2b8ba396494971aaa992c168d7b327",
       "version_major": 2,
       "version_minor": 0
      },
      "text/plain": [
       "HBox(children=(IntProgress(value=0, max=800), HTML(value='')))"
      ]
     },
     "metadata": {},
     "output_type": "display_data"
    },
    {
     "data": {
      "application/vnd.jupyter.widget-view+json": {
       "model_id": "4d1e615dd67f4c1995f9421cbd170325",
       "version_major": 2,
       "version_minor": 0
      },
      "text/plain": [
       "HBox(children=(IntProgress(value=0, max=800), HTML(value='')))"
      ]
     },
     "metadata": {},
     "output_type": "display_data"
    },
    {
     "data": {
      "application/vnd.jupyter.widget-view+json": {
       "model_id": "80090c7eb87245378100a731e9fd8bee",
       "version_major": 2,
       "version_minor": 0
      },
      "text/plain": [
       "HBox(children=(IntProgress(value=0, max=800), HTML(value='')))"
      ]
     },
     "metadata": {},
     "output_type": "display_data"
    },
    {
     "data": {
      "application/vnd.jupyter.widget-view+json": {
       "model_id": "aa60a5f4bd5b4e07a5cd593a04d36d09",
       "version_major": 2,
       "version_minor": 0
      },
      "text/plain": [
       "HBox(children=(IntProgress(value=0, max=800), HTML(value='')))"
      ]
     },
     "metadata": {},
     "output_type": "display_data"
    },
    {
     "data": {
      "application/vnd.jupyter.widget-view+json": {
       "model_id": "a413b0ff04bb45d6b80ca2b60a7e5d03",
       "version_major": 2,
       "version_minor": 0
      },
      "text/plain": [
       "HBox(children=(IntProgress(value=0, max=800), HTML(value='')))"
      ]
     },
     "metadata": {},
     "output_type": "display_data"
    },
    {
     "data": {
      "application/vnd.jupyter.widget-view+json": {
       "model_id": "2d554f5b8c1c48d2814417b67475a564",
       "version_major": 2,
       "version_minor": 0
      },
      "text/plain": [
       "HBox(children=(IntProgress(value=0, max=800), HTML(value='')))"
      ]
     },
     "metadata": {},
     "output_type": "display_data"
    },
    {
     "data": {
      "application/vnd.jupyter.widget-view+json": {
       "model_id": "aa6ab67eca514af6b491b8b7f45ba945",
       "version_major": 2,
       "version_minor": 0
      },
      "text/plain": [
       "HBox(children=(IntProgress(value=0, max=800), HTML(value='')))"
      ]
     },
     "metadata": {},
     "output_type": "display_data"
    },
    {
     "name": "stdout",
     "output_type": "stream",
     "text": [
      "\n",
      "Training autoencoder with data lszh and lambda_kl 0.5...\n",
      "encoder Sequential(\n",
      "  (0): Linear(in_features=256, out_features=32, bias=True)\n",
      "  (1): ReLU()\n",
      "  (2): Linear(in_features=32, out_features=8, bias=True)\n",
      "  (3): ReLU()\n",
      "  (4): Linear(in_features=8, out_features=2, bias=True)\n",
      ")\n",
      "decoder Sequential(\n",
      "  (0): Linear(in_features=2, out_features=8, bias=True)\n",
      "  (1): ReLU()\n",
      "  (2): Linear(in_features=8, out_features=32, bias=True)\n",
      "  (3): ReLU()\n",
      "  (4): Linear(in_features=32, out_features=256, bias=True)\n",
      "  (5): Sigmoid()\n",
      ")\n"
     ]
    },
    {
     "data": {
      "application/vnd.jupyter.widget-view+json": {
       "model_id": "2b0f76f803cf45f18aacd9735fbc0f9b",
       "version_major": 2,
       "version_minor": 0
      },
      "text/plain": [
       "HBox(children=(IntProgress(value=0, description='batches', max=20, style=ProgressStyle(description_width='init…"
      ]
     },
     "metadata": {},
     "output_type": "display_data"
    },
    {
     "data": {
      "application/vnd.jupyter.widget-view+json": {
       "model_id": "0214d94c46aa4aeb9aa43eddeac2aeec",
       "version_major": 2,
       "version_minor": 0
      },
      "text/plain": [
       "HBox(children=(IntProgress(value=0, max=800), HTML(value='')))"
      ]
     },
     "metadata": {},
     "output_type": "display_data"
    },
    {
     "data": {
      "application/vnd.jupyter.widget-view+json": {
       "model_id": "00c85a0aa67549ab8c43fb196808f4f1",
       "version_major": 2,
       "version_minor": 0
      },
      "text/plain": [
       "HBox(children=(IntProgress(value=0, max=800), HTML(value='')))"
      ]
     },
     "metadata": {},
     "output_type": "display_data"
    },
    {
     "data": {
      "application/vnd.jupyter.widget-view+json": {
       "model_id": "175394b78b984c8097009a88a70b9b7a",
       "version_major": 2,
       "version_minor": 0
      },
      "text/plain": [
       "HBox(children=(IntProgress(value=0, max=800), HTML(value='')))"
      ]
     },
     "metadata": {},
     "output_type": "display_data"
    },
    {
     "data": {
      "application/vnd.jupyter.widget-view+json": {
       "model_id": "7a83c4cd9777435f84957d7abb769c5a",
       "version_major": 2,
       "version_minor": 0
      },
      "text/plain": [
       "HBox(children=(IntProgress(value=0, max=800), HTML(value='')))"
      ]
     },
     "metadata": {},
     "output_type": "display_data"
    },
    {
     "data": {
      "application/vnd.jupyter.widget-view+json": {
       "model_id": "228684e3cb4c4065808095fe5e0c7097",
       "version_major": 2,
       "version_minor": 0
      },
      "text/plain": [
       "HBox(children=(IntProgress(value=0, max=800), HTML(value='')))"
      ]
     },
     "metadata": {},
     "output_type": "display_data"
    },
    {
     "data": {
      "application/vnd.jupyter.widget-view+json": {
       "model_id": "4cf5f1306fa54f5fa828f0b89bc3e6c4",
       "version_major": 2,
       "version_minor": 0
      },
      "text/plain": [
       "HBox(children=(IntProgress(value=0, max=800), HTML(value='')))"
      ]
     },
     "metadata": {},
     "output_type": "display_data"
    },
    {
     "data": {
      "application/vnd.jupyter.widget-view+json": {
       "model_id": "fb69a1bb8b9d497fb305e4e5f55028f8",
       "version_major": 2,
       "version_minor": 0
      },
      "text/plain": [
       "HBox(children=(IntProgress(value=0, max=800), HTML(value='')))"
      ]
     },
     "metadata": {},
     "output_type": "display_data"
    },
    {
     "data": {
      "application/vnd.jupyter.widget-view+json": {
       "model_id": "5ef998c5c4a2407db10a6c07ed0c559e",
       "version_major": 2,
       "version_minor": 0
      },
      "text/plain": [
       "HBox(children=(IntProgress(value=0, max=800), HTML(value='')))"
      ]
     },
     "metadata": {},
     "output_type": "display_data"
    },
    {
     "data": {
      "application/vnd.jupyter.widget-view+json": {
       "model_id": "da0e451a027a4b27a899c5263ed97370",
       "version_major": 2,
       "version_minor": 0
      },
      "text/plain": [
       "HBox(children=(IntProgress(value=0, max=800), HTML(value='')))"
      ]
     },
     "metadata": {},
     "output_type": "display_data"
    },
    {
     "data": {
      "application/vnd.jupyter.widget-view+json": {
       "model_id": "1fbb1a647340458d880bf5428f5940e4",
       "version_major": 2,
       "version_minor": 0
      },
      "text/plain": [
       "HBox(children=(IntProgress(value=0, max=800), HTML(value='')))"
      ]
     },
     "metadata": {},
     "output_type": "display_data"
    },
    {
     "data": {
      "application/vnd.jupyter.widget-view+json": {
       "model_id": "0172981cfa6d4821b00bf29a525c334b",
       "version_major": 2,
       "version_minor": 0
      },
      "text/plain": [
       "HBox(children=(IntProgress(value=0, max=800), HTML(value='')))"
      ]
     },
     "metadata": {},
     "output_type": "display_data"
    },
    {
     "data": {
      "application/vnd.jupyter.widget-view+json": {
       "model_id": "9122326cf51a4ecc8ffdd583cd892bff",
       "version_major": 2,
       "version_minor": 0
      },
      "text/plain": [
       "HBox(children=(IntProgress(value=0, max=800), HTML(value='')))"
      ]
     },
     "metadata": {},
     "output_type": "display_data"
    },
    {
     "data": {
      "application/vnd.jupyter.widget-view+json": {
       "model_id": "ed842a184ae74cf393da5747ea248730",
       "version_major": 2,
       "version_minor": 0
      },
      "text/plain": [
       "HBox(children=(IntProgress(value=0, max=800), HTML(value='')))"
      ]
     },
     "metadata": {},
     "output_type": "display_data"
    },
    {
     "data": {
      "application/vnd.jupyter.widget-view+json": {
       "model_id": "6d4f4d32a0f24d3c9db3d88411516cbb",
       "version_major": 2,
       "version_minor": 0
      },
      "text/plain": [
       "HBox(children=(IntProgress(value=0, max=800), HTML(value='')))"
      ]
     },
     "metadata": {},
     "output_type": "display_data"
    },
    {
     "data": {
      "application/vnd.jupyter.widget-view+json": {
       "model_id": "b6d57f0247724e2aaf8b4e5fb5960875",
       "version_major": 2,
       "version_minor": 0
      },
      "text/plain": [
       "HBox(children=(IntProgress(value=0, max=800), HTML(value='')))"
      ]
     },
     "metadata": {},
     "output_type": "display_data"
    },
    {
     "data": {
      "application/vnd.jupyter.widget-view+json": {
       "model_id": "3a1e8115113d4d6fa165cb1f954219b1",
       "version_major": 2,
       "version_minor": 0
      },
      "text/plain": [
       "HBox(children=(IntProgress(value=0, max=800), HTML(value='')))"
      ]
     },
     "metadata": {},
     "output_type": "display_data"
    },
    {
     "data": {
      "application/vnd.jupyter.widget-view+json": {
       "model_id": "99162ae6b5324648a5440d9853e7c72c",
       "version_major": 2,
       "version_minor": 0
      },
      "text/plain": [
       "HBox(children=(IntProgress(value=0, max=800), HTML(value='')))"
      ]
     },
     "metadata": {},
     "output_type": "display_data"
    },
    {
     "data": {
      "application/vnd.jupyter.widget-view+json": {
       "model_id": "fe663cb7ba6945d582ca44a3be4844ed",
       "version_major": 2,
       "version_minor": 0
      },
      "text/plain": [
       "HBox(children=(IntProgress(value=0, max=800), HTML(value='')))"
      ]
     },
     "metadata": {},
     "output_type": "display_data"
    },
    {
     "data": {
      "application/vnd.jupyter.widget-view+json": {
       "model_id": "ca0305b5a5694292943adab31e1425ab",
       "version_major": 2,
       "version_minor": 0
      },
      "text/plain": [
       "HBox(children=(IntProgress(value=0, max=800), HTML(value='')))"
      ]
     },
     "metadata": {},
     "output_type": "display_data"
    },
    {
     "data": {
      "application/vnd.jupyter.widget-view+json": {
       "model_id": "6a593b5d50ea440fa652dc170549e29d",
       "version_major": 2,
       "version_minor": 0
      },
      "text/plain": [
       "HBox(children=(IntProgress(value=0, max=800), HTML(value='')))"
      ]
     },
     "metadata": {},
     "output_type": "display_data"
    },
    {
     "name": "stdout",
     "output_type": "stream",
     "text": [
      "\n",
      "Training autoencoder with data lszh_14 and lambda_kl 0.0...\n",
      "encoder Sequential(\n",
      "  (0): Linear(in_features=256, out_features=32, bias=True)\n",
      "  (1): ReLU()\n",
      "  (2): Linear(in_features=32, out_features=8, bias=True)\n",
      "  (3): ReLU()\n",
      "  (4): Linear(in_features=8, out_features=2, bias=True)\n",
      ")\n",
      "decoder Sequential(\n",
      "  (0): Linear(in_features=2, out_features=8, bias=True)\n",
      "  (1): ReLU()\n",
      "  (2): Linear(in_features=8, out_features=32, bias=True)\n",
      "  (3): ReLU()\n",
      "  (4): Linear(in_features=32, out_features=256, bias=True)\n",
      "  (5): Sigmoid()\n",
      ")\n"
     ]
    },
    {
     "data": {
      "application/vnd.jupyter.widget-view+json": {
       "model_id": "d5857bf391a140819bfdac9e87c63c97",
       "version_major": 2,
       "version_minor": 0
      },
      "text/plain": [
       "HBox(children=(IntProgress(value=0, description='batches', max=1, style=ProgressStyle(description_width='initi…"
      ]
     },
     "metadata": {},
     "output_type": "display_data"
    },
    {
     "data": {
      "application/vnd.jupyter.widget-view+json": {
       "model_id": "68c9e6f20a244fe2a1649664a8903199",
       "version_major": 2,
       "version_minor": 0
      },
      "text/plain": [
       "HBox(children=(IntProgress(value=0, max=5000), HTML(value='')))"
      ]
     },
     "metadata": {},
     "output_type": "display_data"
    },
    {
     "name": "stdout",
     "output_type": "stream",
     "text": [
      "\n",
      "Training autoencoder with data lszh_14 and lambda_kl 0.07...\n",
      "encoder Sequential(\n",
      "  (0): Linear(in_features=256, out_features=32, bias=True)\n",
      "  (1): ReLU()\n",
      "  (2): Linear(in_features=32, out_features=8, bias=True)\n",
      "  (3): ReLU()\n",
      "  (4): Linear(in_features=8, out_features=2, bias=True)\n",
      ")\n",
      "decoder Sequential(\n",
      "  (0): Linear(in_features=2, out_features=8, bias=True)\n",
      "  (1): ReLU()\n",
      "  (2): Linear(in_features=8, out_features=32, bias=True)\n",
      "  (3): ReLU()\n",
      "  (4): Linear(in_features=32, out_features=256, bias=True)\n",
      "  (5): Sigmoid()\n",
      ")\n"
     ]
    },
    {
     "data": {
      "application/vnd.jupyter.widget-view+json": {
       "model_id": "c350ba6c4c0045c7be015a150088df04",
       "version_major": 2,
       "version_minor": 0
      },
      "text/plain": [
       "HBox(children=(IntProgress(value=0, description='batches', max=15, style=ProgressStyle(description_width='init…"
      ]
     },
     "metadata": {},
     "output_type": "display_data"
    },
    {
     "data": {
      "application/vnd.jupyter.widget-view+json": {
       "model_id": "36a5748818b84d31ab55a5fb457e3e48",
       "version_major": 2,
       "version_minor": 0
      },
      "text/plain": [
       "HBox(children=(IntProgress(value=0, max=800), HTML(value='')))"
      ]
     },
     "metadata": {},
     "output_type": "display_data"
    },
    {
     "data": {
      "application/vnd.jupyter.widget-view+json": {
       "model_id": "347403abf2364b4092002ba5a3124e82",
       "version_major": 2,
       "version_minor": 0
      },
      "text/plain": [
       "HBox(children=(IntProgress(value=0, max=800), HTML(value='')))"
      ]
     },
     "metadata": {},
     "output_type": "display_data"
    },
    {
     "data": {
      "application/vnd.jupyter.widget-view+json": {
       "model_id": "5d66aef761d74694be023f56304c2747",
       "version_major": 2,
       "version_minor": 0
      },
      "text/plain": [
       "HBox(children=(IntProgress(value=0, max=800), HTML(value='')))"
      ]
     },
     "metadata": {},
     "output_type": "display_data"
    },
    {
     "data": {
      "application/vnd.jupyter.widget-view+json": {
       "model_id": "da76e351e224409480fbffae964989b4",
       "version_major": 2,
       "version_minor": 0
      },
      "text/plain": [
       "HBox(children=(IntProgress(value=0, max=800), HTML(value='')))"
      ]
     },
     "metadata": {},
     "output_type": "display_data"
    },
    {
     "data": {
      "application/vnd.jupyter.widget-view+json": {
       "model_id": "e43482af4c194692894fc841dd13274b",
       "version_major": 2,
       "version_minor": 0
      },
      "text/plain": [
       "HBox(children=(IntProgress(value=0, max=800), HTML(value='')))"
      ]
     },
     "metadata": {},
     "output_type": "display_data"
    },
    {
     "data": {
      "application/vnd.jupyter.widget-view+json": {
       "model_id": "36a8660c13c54b278cc097e4d214df65",
       "version_major": 2,
       "version_minor": 0
      },
      "text/plain": [
       "HBox(children=(IntProgress(value=0, max=800), HTML(value='')))"
      ]
     },
     "metadata": {},
     "output_type": "display_data"
    },
    {
     "data": {
      "application/vnd.jupyter.widget-view+json": {
       "model_id": "87215453bc7747db9238b3d3f4604dd7",
       "version_major": 2,
       "version_minor": 0
      },
      "text/plain": [
       "HBox(children=(IntProgress(value=0, max=800), HTML(value='')))"
      ]
     },
     "metadata": {},
     "output_type": "display_data"
    },
    {
     "data": {
      "application/vnd.jupyter.widget-view+json": {
       "model_id": "804fe8782fba43ab86a52652f4dcfe13",
       "version_major": 2,
       "version_minor": 0
      },
      "text/plain": [
       "HBox(children=(IntProgress(value=0, max=800), HTML(value='')))"
      ]
     },
     "metadata": {},
     "output_type": "display_data"
    },
    {
     "data": {
      "application/vnd.jupyter.widget-view+json": {
       "model_id": "e7fe2638a706402fb39dcb16d273019d",
       "version_major": 2,
       "version_minor": 0
      },
      "text/plain": [
       "HBox(children=(IntProgress(value=0, max=800), HTML(value='')))"
      ]
     },
     "metadata": {},
     "output_type": "display_data"
    },
    {
     "data": {
      "application/vnd.jupyter.widget-view+json": {
       "model_id": "aa8bf34c24ed40bfa6dfe3ee7734a20d",
       "version_major": 2,
       "version_minor": 0
      },
      "text/plain": [
       "HBox(children=(IntProgress(value=0, max=800), HTML(value='')))"
      ]
     },
     "metadata": {},
     "output_type": "display_data"
    },
    {
     "data": {
      "application/vnd.jupyter.widget-view+json": {
       "model_id": "c392798bb72d4750aac849aed3f87210",
       "version_major": 2,
       "version_minor": 0
      },
      "text/plain": [
       "HBox(children=(IntProgress(value=0, max=800), HTML(value='')))"
      ]
     },
     "metadata": {},
     "output_type": "display_data"
    },
    {
     "data": {
      "application/vnd.jupyter.widget-view+json": {
       "model_id": "6a22eac1b4af4dd9af047ed43cb19a4b",
       "version_major": 2,
       "version_minor": 0
      },
      "text/plain": [
       "HBox(children=(IntProgress(value=0, max=800), HTML(value='')))"
      ]
     },
     "metadata": {},
     "output_type": "display_data"
    },
    {
     "data": {
      "application/vnd.jupyter.widget-view+json": {
       "model_id": "cf40165284bc4f009f0840809d17d4df",
       "version_major": 2,
       "version_minor": 0
      },
      "text/plain": [
       "HBox(children=(IntProgress(value=0, max=800), HTML(value='')))"
      ]
     },
     "metadata": {},
     "output_type": "display_data"
    },
    {
     "data": {
      "application/vnd.jupyter.widget-view+json": {
       "model_id": "84764b8f6f04449a99941b155fcef5d1",
       "version_major": 2,
       "version_minor": 0
      },
      "text/plain": [
       "HBox(children=(IntProgress(value=0, max=800), HTML(value='')))"
      ]
     },
     "metadata": {},
     "output_type": "display_data"
    },
    {
     "data": {
      "application/vnd.jupyter.widget-view+json": {
       "model_id": "5a6a1f2d231f4750a92b39f5ec482ea0",
       "version_major": 2,
       "version_minor": 0
      },
      "text/plain": [
       "HBox(children=(IntProgress(value=0, max=800), HTML(value='')))"
      ]
     },
     "metadata": {},
     "output_type": "display_data"
    },
    {
     "name": "stdout",
     "output_type": "stream",
     "text": [
      "\n",
      "Training autoencoder with data lszh_14 and lambda_kl 0.5...\n",
      "encoder Sequential(\n",
      "  (0): Linear(in_features=256, out_features=32, bias=True)\n",
      "  (1): ReLU()\n",
      "  (2): Linear(in_features=32, out_features=8, bias=True)\n",
      "  (3): ReLU()\n",
      "  (4): Linear(in_features=8, out_features=2, bias=True)\n",
      ")\n",
      "decoder Sequential(\n",
      "  (0): Linear(in_features=2, out_features=8, bias=True)\n",
      "  (1): ReLU()\n",
      "  (2): Linear(in_features=8, out_features=32, bias=True)\n",
      "  (3): ReLU()\n",
      "  (4): Linear(in_features=32, out_features=256, bias=True)\n",
      "  (5): Sigmoid()\n",
      ")\n"
     ]
    },
    {
     "data": {
      "application/vnd.jupyter.widget-view+json": {
       "model_id": "60acf5faa6a84781bbaf2c631fa90178",
       "version_major": 2,
       "version_minor": 0
      },
      "text/plain": [
       "HBox(children=(IntProgress(value=0, description='batches', max=15, style=ProgressStyle(description_width='init…"
      ]
     },
     "metadata": {},
     "output_type": "display_data"
    },
    {
     "data": {
      "application/vnd.jupyter.widget-view+json": {
       "model_id": "9e34f1f2f63e42d0a91473b70e27c7ed",
       "version_major": 2,
       "version_minor": 0
      },
      "text/plain": [
       "HBox(children=(IntProgress(value=0, max=800), HTML(value='')))"
      ]
     },
     "metadata": {},
     "output_type": "display_data"
    },
    {
     "data": {
      "application/vnd.jupyter.widget-view+json": {
       "model_id": "19080a49a30d4522b3f267a95417bdeb",
       "version_major": 2,
       "version_minor": 0
      },
      "text/plain": [
       "HBox(children=(IntProgress(value=0, max=800), HTML(value='')))"
      ]
     },
     "metadata": {},
     "output_type": "display_data"
    },
    {
     "data": {
      "application/vnd.jupyter.widget-view+json": {
       "model_id": "4db1b858025f44aaacd3d67478a5c641",
       "version_major": 2,
       "version_minor": 0
      },
      "text/plain": [
       "HBox(children=(IntProgress(value=0, max=800), HTML(value='')))"
      ]
     },
     "metadata": {},
     "output_type": "display_data"
    },
    {
     "data": {
      "application/vnd.jupyter.widget-view+json": {
       "model_id": "dde2d1620fd34a5a9b35f2d57aaec7ea",
       "version_major": 2,
       "version_minor": 0
      },
      "text/plain": [
       "HBox(children=(IntProgress(value=0, max=800), HTML(value='')))"
      ]
     },
     "metadata": {},
     "output_type": "display_data"
    },
    {
     "data": {
      "application/vnd.jupyter.widget-view+json": {
       "model_id": "eba4408756204e9ea8e85552b9d4ff99",
       "version_major": 2,
       "version_minor": 0
      },
      "text/plain": [
       "HBox(children=(IntProgress(value=0, max=800), HTML(value='')))"
      ]
     },
     "metadata": {},
     "output_type": "display_data"
    },
    {
     "data": {
      "application/vnd.jupyter.widget-view+json": {
       "model_id": "5fd2f65711d543909571f41844171443",
       "version_major": 2,
       "version_minor": 0
      },
      "text/plain": [
       "HBox(children=(IntProgress(value=0, max=800), HTML(value='')))"
      ]
     },
     "metadata": {},
     "output_type": "display_data"
    },
    {
     "data": {
      "application/vnd.jupyter.widget-view+json": {
       "model_id": "1c47683e902c47e58ebd87f4f16e2854",
       "version_major": 2,
       "version_minor": 0
      },
      "text/plain": [
       "HBox(children=(IntProgress(value=0, max=800), HTML(value='')))"
      ]
     },
     "metadata": {},
     "output_type": "display_data"
    },
    {
     "data": {
      "application/vnd.jupyter.widget-view+json": {
       "model_id": "9f43bc26c9504baa9e4741e61f9501bd",
       "version_major": 2,
       "version_minor": 0
      },
      "text/plain": [
       "HBox(children=(IntProgress(value=0, max=800), HTML(value='')))"
      ]
     },
     "metadata": {},
     "output_type": "display_data"
    },
    {
     "data": {
      "application/vnd.jupyter.widget-view+json": {
       "model_id": "13cc0fb7dfce44658055a23affe6b386",
       "version_major": 2,
       "version_minor": 0
      },
      "text/plain": [
       "HBox(children=(IntProgress(value=0, max=800), HTML(value='')))"
      ]
     },
     "metadata": {},
     "output_type": "display_data"
    },
    {
     "data": {
      "application/vnd.jupyter.widget-view+json": {
       "model_id": "29ef97ec8a004a56a317170461fa6814",
       "version_major": 2,
       "version_minor": 0
      },
      "text/plain": [
       "HBox(children=(IntProgress(value=0, max=800), HTML(value='')))"
      ]
     },
     "metadata": {},
     "output_type": "display_data"
    },
    {
     "data": {
      "application/vnd.jupyter.widget-view+json": {
       "model_id": "ae4586e5e00948c2989228d2e6b9c2f7",
       "version_major": 2,
       "version_minor": 0
      },
      "text/plain": [
       "HBox(children=(IntProgress(value=0, max=800), HTML(value='')))"
      ]
     },
     "metadata": {},
     "output_type": "display_data"
    },
    {
     "data": {
      "application/vnd.jupyter.widget-view+json": {
       "model_id": "07fa99449d9247599c45d9a8f2551724",
       "version_major": 2,
       "version_minor": 0
      },
      "text/plain": [
       "HBox(children=(IntProgress(value=0, max=800), HTML(value='')))"
      ]
     },
     "metadata": {},
     "output_type": "display_data"
    },
    {
     "data": {
      "application/vnd.jupyter.widget-view+json": {
       "model_id": "c975bfa2d04a4608a4e8cd74605b8607",
       "version_major": 2,
       "version_minor": 0
      },
      "text/plain": [
       "HBox(children=(IntProgress(value=0, max=800), HTML(value='')))"
      ]
     },
     "metadata": {},
     "output_type": "display_data"
    },
    {
     "data": {
      "application/vnd.jupyter.widget-view+json": {
       "model_id": "1847c4adabea4e78a8ad74adedb5c638",
       "version_major": 2,
       "version_minor": 0
      },
      "text/plain": [
       "HBox(children=(IntProgress(value=0, max=800), HTML(value='')))"
      ]
     },
     "metadata": {},
     "output_type": "display_data"
    },
    {
     "data": {
      "application/vnd.jupyter.widget-view+json": {
       "model_id": "ee1806be7a9e4b06a3459aa33a702d72",
       "version_major": 2,
       "version_minor": 0
      },
      "text/plain": [
       "HBox(children=(IntProgress(value=0, max=800), HTML(value='')))"
      ]
     },
     "metadata": {},
     "output_type": "display_data"
    },
    {
     "name": "stdout",
     "output_type": "stream",
     "text": [
      "\n",
      "Training autoencoder with data lszh_162-216_14 and lambda_kl 0.0...\n",
      "encoder Sequential(\n",
      "  (0): Linear(in_features=256, out_features=32, bias=True)\n",
      "  (1): ReLU()\n",
      "  (2): Linear(in_features=32, out_features=8, bias=True)\n",
      "  (3): ReLU()\n",
      "  (4): Linear(in_features=8, out_features=2, bias=True)\n",
      ")\n",
      "decoder Sequential(\n",
      "  (0): Linear(in_features=2, out_features=8, bias=True)\n",
      "  (1): ReLU()\n",
      "  (2): Linear(in_features=8, out_features=32, bias=True)\n",
      "  (3): ReLU()\n",
      "  (4): Linear(in_features=32, out_features=256, bias=True)\n",
      "  (5): Sigmoid()\n",
      ")\n"
     ]
    },
    {
     "data": {
      "application/vnd.jupyter.widget-view+json": {
       "model_id": "16352aa482fa4ee6b5b38858b94787de",
       "version_major": 2,
       "version_minor": 0
      },
      "text/plain": [
       "HBox(children=(IntProgress(value=0, description='batches', max=1, style=ProgressStyle(description_width='initi…"
      ]
     },
     "metadata": {},
     "output_type": "display_data"
    },
    {
     "data": {
      "application/vnd.jupyter.widget-view+json": {
       "model_id": "46f6e87e4dde4f30888695b09be2b9ec",
       "version_major": 2,
       "version_minor": 0
      },
      "text/plain": [
       "HBox(children=(IntProgress(value=0, max=5000), HTML(value='')))"
      ]
     },
     "metadata": {},
     "output_type": "display_data"
    },
    {
     "name": "stdout",
     "output_type": "stream",
     "text": [
      "\n",
      "Training autoencoder with data lszh_162-216_14 and lambda_kl 0.07...\n",
      "encoder Sequential(\n",
      "  (0): Linear(in_features=256, out_features=32, bias=True)\n",
      "  (1): ReLU()\n",
      "  (2): Linear(in_features=32, out_features=8, bias=True)\n",
      "  (3): ReLU()\n",
      "  (4): Linear(in_features=8, out_features=2, bias=True)\n",
      ")\n",
      "decoder Sequential(\n",
      "  (0): Linear(in_features=2, out_features=8, bias=True)\n",
      "  (1): ReLU()\n",
      "  (2): Linear(in_features=8, out_features=32, bias=True)\n",
      "  (3): ReLU()\n",
      "  (4): Linear(in_features=32, out_features=256, bias=True)\n",
      "  (5): Sigmoid()\n",
      ")\n"
     ]
    },
    {
     "data": {
      "application/vnd.jupyter.widget-view+json": {
       "model_id": "9b433a965193491ebd7e6d013b946a9e",
       "version_major": 2,
       "version_minor": 0
      },
      "text/plain": [
       "HBox(children=(IntProgress(value=0, description='batches', max=5, style=ProgressStyle(description_width='initi…"
      ]
     },
     "metadata": {},
     "output_type": "display_data"
    },
    {
     "data": {
      "application/vnd.jupyter.widget-view+json": {
       "model_id": "20524a7ea7d541f2b693d53b9351aff0",
       "version_major": 2,
       "version_minor": 0
      },
      "text/plain": [
       "HBox(children=(IntProgress(value=0, max=800), HTML(value='')))"
      ]
     },
     "metadata": {},
     "output_type": "display_data"
    },
    {
     "data": {
      "application/vnd.jupyter.widget-view+json": {
       "model_id": "478d174638fa482c99d0f5adb8aee762",
       "version_major": 2,
       "version_minor": 0
      },
      "text/plain": [
       "HBox(children=(IntProgress(value=0, max=800), HTML(value='')))"
      ]
     },
     "metadata": {},
     "output_type": "display_data"
    },
    {
     "data": {
      "application/vnd.jupyter.widget-view+json": {
       "model_id": "cdbaede2185c48b0b7717d57b4ce7cd7",
       "version_major": 2,
       "version_minor": 0
      },
      "text/plain": [
       "HBox(children=(IntProgress(value=0, max=800), HTML(value='')))"
      ]
     },
     "metadata": {},
     "output_type": "display_data"
    },
    {
     "data": {
      "application/vnd.jupyter.widget-view+json": {
       "model_id": "105d905eb5b942cea2dcc155adf846ad",
       "version_major": 2,
       "version_minor": 0
      },
      "text/plain": [
       "HBox(children=(IntProgress(value=0, max=800), HTML(value='')))"
      ]
     },
     "metadata": {},
     "output_type": "display_data"
    },
    {
     "data": {
      "application/vnd.jupyter.widget-view+json": {
       "model_id": "67bbd308c5a64c3dbd46f16b46d014f5",
       "version_major": 2,
       "version_minor": 0
      },
      "text/plain": [
       "HBox(children=(IntProgress(value=0, max=800), HTML(value='')))"
      ]
     },
     "metadata": {},
     "output_type": "display_data"
    },
    {
     "name": "stdout",
     "output_type": "stream",
     "text": [
      "\n",
      "Training autoencoder with data lszh_162-216_14 and lambda_kl 0.5...\n",
      "encoder Sequential(\n",
      "  (0): Linear(in_features=256, out_features=32, bias=True)\n",
      "  (1): ReLU()\n",
      "  (2): Linear(in_features=32, out_features=8, bias=True)\n",
      "  (3): ReLU()\n",
      "  (4): Linear(in_features=8, out_features=2, bias=True)\n",
      ")\n",
      "decoder Sequential(\n",
      "  (0): Linear(in_features=2, out_features=8, bias=True)\n",
      "  (1): ReLU()\n",
      "  (2): Linear(in_features=8, out_features=32, bias=True)\n",
      "  (3): ReLU()\n",
      "  (4): Linear(in_features=32, out_features=256, bias=True)\n",
      "  (5): Sigmoid()\n",
      ")\n"
     ]
    },
    {
     "data": {
      "application/vnd.jupyter.widget-view+json": {
       "model_id": "239ba6ccd5184136add41f38a1c903e6",
       "version_major": 2,
       "version_minor": 0
      },
      "text/plain": [
       "HBox(children=(IntProgress(value=0, description='batches', max=5, style=ProgressStyle(description_width='initi…"
      ]
     },
     "metadata": {},
     "output_type": "display_data"
    },
    {
     "data": {
      "application/vnd.jupyter.widget-view+json": {
       "model_id": "755d25b3268840d1805cc97952f3ca2b",
       "version_major": 2,
       "version_minor": 0
      },
      "text/plain": [
       "HBox(children=(IntProgress(value=0, max=800), HTML(value='')))"
      ]
     },
     "metadata": {},
     "output_type": "display_data"
    },
    {
     "data": {
      "application/vnd.jupyter.widget-view+json": {
       "model_id": "5695a63467984d01b424a8dcfb3d202c",
       "version_major": 2,
       "version_minor": 0
      },
      "text/plain": [
       "HBox(children=(IntProgress(value=0, max=800), HTML(value='')))"
      ]
     },
     "metadata": {},
     "output_type": "display_data"
    },
    {
     "data": {
      "application/vnd.jupyter.widget-view+json": {
       "model_id": "b6db7f93036e49e097de6330b398911a",
       "version_major": 2,
       "version_minor": 0
      },
      "text/plain": [
       "HBox(children=(IntProgress(value=0, max=800), HTML(value='')))"
      ]
     },
     "metadata": {},
     "output_type": "display_data"
    },
    {
     "data": {
      "application/vnd.jupyter.widget-view+json": {
       "model_id": "2392c06354ae4d5ab6916dfaae83a53e",
       "version_major": 2,
       "version_minor": 0
      },
      "text/plain": [
       "HBox(children=(IntProgress(value=0, max=800), HTML(value='')))"
      ]
     },
     "metadata": {},
     "output_type": "display_data"
    },
    {
     "data": {
      "application/vnd.jupyter.widget-view+json": {
       "model_id": "7cf9aad1d0dc4de0bbdc64cef7563f3c",
       "version_major": 2,
       "version_minor": 0
      },
      "text/plain": [
       "HBox(children=(IntProgress(value=0, max=800), HTML(value='')))"
      ]
     },
     "metadata": {},
     "output_type": "display_data"
    },
    {
     "name": "stdout",
     "output_type": "stream",
     "text": [
      "\n"
     ]
    }
   ],
   "source": [
    "# ARTEFACT clustering\n",
    "import numpy as np\n",
    "from sklearn.mixture import GaussianMixture\n",
    "from sklearn.preprocessing import MinMaxScaler\n",
    "from traffic.core import Traffic\n",
    "from artefact import AutoencoderTSNE, Autoencoder\n",
    "from artefact.clustering import get_latent\n",
    "from artefact.plot import plot_latent_and_trajs\n",
    "\n",
    "\n",
    "def artefact_clustering(file, lambda_kl):\n",
    "    if not os.path.exists(f\"{res_dir}_{nb_samples}\"):\n",
    "        os.makedirs(f\"{res_dir}_{nb_samples}\")\n",
    "\n",
    "    path = f\"{res_dir}_{nb_samples}/{file}_artefact_{param(lambda_kl)}\"\n",
    "    if not os.path.exists(f\"{path}.parquet\"):\n",
    "        print(f\"Training autoencoder with data {file} and lambda_kl {lambda_kl}...\")\n",
    "        t = Traffic.from_file(f\"{data_dir}_{nb_samples}/{file}.parquet\")\n",
    "        model = Autoencoder((nb_samples * nb_features, 32, 8, 2), reluout=False)\n",
    "        ae_tsne = AutoencoderTSNE(\n",
    "            gpu=0,\n",
    "            batch_size=1000 if lambda_kl > 0 else len(t),\n",
    "            model=model,\n",
    "            lambda_kl=lambda_kl,\n",
    "            nb_iterations=800 if lambda_kl > 0 else 5000,\n",
    "            algo_clustering=GaussianMixture(n_components=5 if file == \"lszh\" else 4),\n",
    "            distance_trajectory=\"euclidean\",  # delta_max\n",
    "            savepath=f\"{path}.pth\",\n",
    "        )\n",
    "        t_c = t.clustering(\n",
    "            nb_samples=None,  # nb_samples,\n",
    "            features=list_features,\n",
    "            clustering=ae_tsne,\n",
    "            transform=MinMaxScaler(feature_range=(-1, 1)),\n",
    "            max_workers=10,\n",
    "        ).fit_predict()\n",
    "        t_c.to_parquet(f\"{path}.parquet\")\n",
    "        #         np.save(\n",
    "        #             f\"{path}_x.npy\", ae_tsne.X,\n",
    "        #         )\n",
    "        np.savez(\n",
    "            f\"{path}_loss\",\n",
    "            loss=np.asarray(ae_tsne.loss[\"loss\"]),\n",
    "            re_loss=np.asarray(ae_tsne.loss[\"re_loss\"]),\n",
    "            kl_loss=np.asarray(ae_tsne.loss[\"kl_loss\"]),\n",
    "        )\n",
    "        np.save(f\"{path}_lat.npy\", ae_tsne.get_latent())\n",
    "        re, scores = ae_tsne.score_samples()\n",
    "        np.savez(f\"{path}_scores\", re, scores)\n",
    "\n",
    "\n",
    "for file in files:\n",
    "    for lambda_kl in lambda_kls:\n",
    "        artefact_clustering(file, lambda_kl)"
   ]
  },
  {
   "cell_type": "code",
   "execution_count": null,
   "metadata": {},
   "outputs": [
    {
     "name": "stdout",
     "output_type": "stream",
     "text": [
      "Training dcec with data lszh and lambda_kl 0.0...\n",
      "Model: \"sequential_1\"\n",
      "_________________________________________________________________\n",
      "Layer (type)                 Output Shape              Param #   \n",
      "=================================================================\n",
      "dense_1 (Dense)              (None, 64)                16448     \n",
      "_________________________________________________________________\n",
      "dense_2 (Dense)              (None, 16)                1040      \n",
      "_________________________________________________________________\n",
      "embedding (Dense)            (None, 2)                 34        \n",
      "_________________________________________________________________\n",
      "dense_3 (Dense)              (None, 16)                48        \n",
      "_________________________________________________________________\n",
      "dense_4 (Dense)              (None, 64)                1088      \n",
      "_________________________________________________________________\n",
      "dense_5 (Dense)              (None, 256)               16640     \n",
      "=================================================================\n",
      "Total params: 35,298\n",
      "Trainable params: 35,298\n",
      "Non-trainable params: 0\n",
      "_________________________________________________________________\n",
      "self.X.shape (19457, 256)\n",
      "Update interval 140\n",
      "Save interval 97.285\n",
      "...pretraining CAE using default hyper-parameters:\n",
      "   optimizer='adam';   epochs=1000\n",
      "...Pretraining...\n"
     ]
    },
    {
     "name": "stderr",
     "output_type": "stream",
     "text": [
      "/home/richard/anaconda3/envs/artefact/lib/python3.7/site-packages/keras/engine/training_utils.py:811: DeprecationWarning: Using or importing the ABCs from 'collections' instead of from 'collections.abc' is deprecated since Python 3.3,and in 3.9 it will stop working\n",
      "  if isinstance(loss, collections.Mapping):\n"
     ]
    },
    {
     "name": "stdout",
     "output_type": "stream",
     "text": [
      "Pretraining time:  173.2519509792328\n",
      "Pretrained weights are saved to ./res_64/lszh_dcec_0_0/pretrain_cae_model.h5\n",
      "Initializing cluster centers with k-means.\n",
      "saving model to: ./res_64/lszh_dcec_0_0/dcec_model_0.h5\n"
     ]
    }
   ],
   "source": [
    "# DCEC clustering\n",
    "import numpy as np\n",
    "from sklearn.preprocessing import MinMaxScaler\n",
    "from traffic.core import Traffic\n",
    "from dcec.clustering import DCEC\n",
    "from dcec.utils import input_shape, input_shape1d\n",
    "\n",
    "\n",
    "def dcec_clustering(file, lambda_kl):\n",
    "    if not os.path.exists(f\"{res_dir}_{nb_samples}\"):\n",
    "        os.makedirs(f\"{res_dir}_{nb_samples}\")\n",
    "\n",
    "    path = f\"{res_dir}_{nb_samples}/{file}_dcec_{param(lambda_kl)}\"\n",
    "    if os.path.exists(f\"{path}.parquet\"):\n",
    "        return\n",
    "\n",
    "    print(f\"Training dcec with data {file} and lambda_kl {lambda_kl}...\")\n",
    "    t = Traffic.from_file(f\"{data_dir}_{nb_samples}/{file}.parquet\")\n",
    "\n",
    "    dcec = DCEC(\n",
    "        input_shape=sel_input_shape(nb_samples, nb_features),\n",
    "        filters=[32, 64, 2],\n",
    "        n_clusters=5 if file == \"lszh\" else 4,\n",
    "        cae=sel_cae,\n",
    "        lambda_kl=lambda_kl,\n",
    "        batch_size=1000,\n",
    "        epochs=1000,\n",
    "        maxiter=10000,\n",
    "        update_interval=140,\n",
    "        save_dir=path,\n",
    "    )\n",
    "\n",
    "    t_c = t.clustering(\n",
    "        nb_samples=None,\n",
    "        features=list_features,\n",
    "        clustering=dcec,\n",
    "        transform=MinMaxScaler(feature_range=(-1, 1)),\n",
    "    ).fit_predict()\n",
    "\n",
    "    t_c.to_parquet(f\"{path}.parquet\")\n",
    "    loss_evolution = np.asarray(dcec.loss_evolution).T\n",
    "    np.savez(\n",
    "        f\"{path}_loss\",\n",
    "        loss=loss_evolution[0],\n",
    "        kl_loss=loss_evolution[1],\n",
    "        re_loss=loss_evolution[2],\n",
    "    )\n",
    "    # np.save(f\"{path}_x.npy\", dcec.X)\n",
    "    np.save(f\"{path}_lat.npy\", dcec.extract_feature(dcec.X))\n",
    "    re, scores = dcec.score_samples(dcec.X)\n",
    "    np.savez(f\"{path}_scores\", re, scores)\n",
    "\n",
    "\n",
    "for file in files:\n",
    "    for lambda_kl in lambda_kls:\n",
    "        dcec_clustering(file, lambda_kl)"
   ]
  },
  {
   "cell_type": "code",
   "execution_count": null,
   "metadata": {},
   "outputs": [],
   "source": [
    "from keras.utils.vis_utils import plot_model\n",
    "\n",
    "model = sel_cae(\n",
    "    input_shape=sel_input_shape(nb_samples, nb_features), filters=[32, 64, 2]\n",
    ")\n",
    "plot_model(model, to_file=f\"{res_dir}_{nb_samples}/cae.png\", show_shapes=True)"
   ]
  },
  {
   "cell_type": "code",
   "execution_count": null,
   "metadata": {},
   "outputs": [],
   "source": [
    "import numpy as np\n",
    "from artefact.plot import plot_loss\n",
    "\n",
    "\n",
    "def plot_losses(method, file, lambda_kl):\n",
    "    path = f\"{res_dir}_{nb_samples}/{file}_{method}_{param(lambda_kl)}_loss\"\n",
    "    if not os.path.exists(f\"{path}.npz\") or refresh_figs:\n",
    "        loss = np.load(f\"{path}.npz\")\n",
    "        print(np.min(loss[\"loss\"]), np.min(loss[\"re_loss\"]), np.min(loss[\"kl_loss\"]))\n",
    "        plot_loss(loss[\"loss\"], loss[\"re_loss\"], loss[\"kl_loss\"], f\"{path}.png\")\n",
    "        # plt.show()\n",
    "\n",
    "\n",
    "for file in files:\n",
    "    for lambda_kl in lambda_kls:\n",
    "        plot_losses(\"dcec\", file, lambda_kl)"
   ]
  },
  {
   "cell_type": "code",
   "execution_count": null,
   "metadata": {},
   "outputs": [],
   "source": [
    "import matplotlib.pyplot as plt\n",
    "import numpy as np\n",
    "import pandas as pd\n",
    "from traffic.core import Traffic  # ,reluout=True\n",
    "\n",
    "\n",
    "def plot_lats(method, file, lambda_kls, gb=\"cluster\"):\n",
    "    fig_path = f\"{res_dir}_{nb_samples}/{file}_{method}_lat_{gb}.png\"\n",
    "    if os.path.exists(fig_path) and not refresh_figs:\n",
    "        return\n",
    "    colors = [\n",
    "        \"#1f77b4\",\n",
    "        \"#ff7f0e\",\n",
    "        \"#2ca02c\",\n",
    "        \"#d62728\",\n",
    "        \"#9467bd\",\n",
    "        \"#8c564b\",\n",
    "        \"#e377c2\",\n",
    "        \"#7f7f7f\",\n",
    "        \"#bcbd22\",\n",
    "        \"#17becf\",\n",
    "    ]\n",
    "    with plt.style.context(\"traffic\"):\n",
    "        fig, axs = plt.subplots(\n",
    "            1, len(lambda_kls), figsize=(15, 7.5), sharex=True, sharey=True\n",
    "        )\n",
    "        fig.text(\n",
    "            0.5,\n",
    "            0.04,\n",
    "            \"1st component on latent space\",\n",
    "            ha=\"center\",\n",
    "            va=\"center\",\n",
    "            fontsize=15,\n",
    "        )\n",
    "        fig.text(\n",
    "            0.06,\n",
    "            0.5,\n",
    "            \"2nd component on latent space\",\n",
    "            ha=\"center\",\n",
    "            va=\"center\",\n",
    "            rotation=\"vertical\",\n",
    "            fontsize=15,\n",
    "        )\n",
    "        for lambda_kl, ax in zip(lambda_kls, axs.reshape(-1)):\n",
    "            path = f\"{res_dir}_{nb_samples}/{file}_{method}_{param(lambda_kl)}\"\n",
    "            t = Traffic.from_file(f\"{path}.parquet\")\n",
    "            lat = np.load(f\"{path}_lat.npy\")\n",
    "            subset = t.query(\"initial_flow != 'N/A'\")\n",
    "            df = pd.DataFrame.from_records(\n",
    "                [\n",
    "                    {\"flight_id\": id_, \"x\": x, \"y\": y}\n",
    "                    for (id_, x, y) in zip(\n",
    "                        list(f.flight_id for f in t), lat[:, 0], lat[:, 1]\n",
    "                    )\n",
    "                ]\n",
    "            )\n",
    "            df = df.assign(\n",
    "                x=lambda df: (df.x - df.x.min()) / (df.x.max() - df.x.min()),\n",
    "                y=lambda df: (df.y - df.y.min()) / (df.y.max() - df.y.min()),\n",
    "            )\n",
    "            cols = [\"flight_id\", gb]\n",
    "            stasts = df.merge(subset.data[cols].drop_duplicates())\n",
    "            for (flow, d), color in zip(stasts.groupby(gb), colors):\n",
    "                d.plot.scatter(x=\"x\", y=\"y\", ax=ax, color=color, label=flow, alpha=0.4)\n",
    "\n",
    "            ax.set_title(f\"{file} - {lambda_kl}\", fontsize=20, fontname=\"Ubuntu\")\n",
    "            ax.set_xlabel(\"\")\n",
    "            ax.set_ylabel(\"\")\n",
    "            ax.legend(prop=dict(family=\"Ubuntu\", size=18))\n",
    "            ax.grid(linestyle=\"solid\", alpha=0.5, zorder=-2)\n",
    "        print(fig_path)\n",
    "        fig.savefig(fig_path)"
   ]
  },
  {
   "cell_type": "code",
   "execution_count": null,
   "metadata": {},
   "outputs": [],
   "source": [
    "for method in [\"artefact\", \"dcec\"]:\n",
    "    for file in files:\n",
    "        plot_lats(method, file, lambda_kls[1:3], gb=\"initial_flow\")"
   ]
  },
  {
   "cell_type": "code",
   "execution_count": null,
   "metadata": {},
   "outputs": [],
   "source": [
    "for i in range(2):\n",
    "    plot_lats(\"artefact\", files[i], lambda_kls, gb=\"cluster\")"
   ]
  },
  {
   "cell_type": "code",
   "execution_count": null,
   "metadata": {},
   "outputs": [],
   "source": [
    "import matplotlib.pyplot as plt\n",
    "import numpy as np\n",
    "import pandas as pd\n",
    "from traffic.core import Traffic\n",
    "from traffic.data import airports\n",
    "from traffic.drawing import EuroPP, PlateCarree, countries, rivers\n",
    "from traffic.drawing.markers import atc_tower\n",
    "\n",
    "\n",
    "def legend_without_duplicate_labels(ax):\n",
    "    handles, labels = ax.get_legend_handles_labels()\n",
    "    unique = [\n",
    "        (h, l) for i, (h, l) in enumerate(zip(handles, labels)) if l not in labels[:i]\n",
    "    ]\n",
    "    ax.legend(*zip(*unique), prop=dict(family=\"Ubuntu\", size=18))\n",
    "    # ax.legend(*zip(*unique))\n",
    "\n",
    "\n",
    "def plot_trajs(method, file, lambda_kls, gb=\"cluster\"):\n",
    "    fig_path = f\"{res_dir}_{nb_samples}/{file}_{method}_trajs_{gb}.png\"\n",
    "    if os.path.exists(fig_path) and not refresh_figs:\n",
    "        return\n",
    "\n",
    "    with plt.style.context(\"traffic\"):\n",
    "        text_style = dict(\n",
    "            verticalalignment=\"top\",\n",
    "            horizontalalignment=\"right\",\n",
    "            fontname=\"Ubuntu\",\n",
    "            fontsize=18,\n",
    "            bbox=dict(facecolor=\"white\", alpha=0.6, boxstyle=\"round\"),\n",
    "        )\n",
    "        colors = [\n",
    "            \"#1f77b4\",\n",
    "            \"#ff7f0e\",\n",
    "            \"#2ca02c\",\n",
    "            \"#d62728\",\n",
    "            \"#9467bd\",\n",
    "            \"#8c564b\",\n",
    "            \"#e377c2\",\n",
    "            \"#7f7f7f\",\n",
    "            \"#bcbd22\",\n",
    "            \"#17becf\",\n",
    "        ]\n",
    "        fig, axs = plt.subplots(\n",
    "            1,\n",
    "            len(lambda_kls),\n",
    "            figsize=(15, 7.5),\n",
    "            # sharex=True,\n",
    "            # sharey=True,\n",
    "            subplot_kw=dict(projection=EuroPP()),\n",
    "        )\n",
    "        extent = None\n",
    "        for lambda_kl, ax in zip(lambda_kls, axs.reshape(-1)):\n",
    "            ax.add_feature(\n",
    "                countries(\n",
    "                    edgecolor=\"white\",\n",
    "                    facecolor=\"#d9dadb\",\n",
    "                    alpha=1,\n",
    "                    linewidth=2,\n",
    "                    zorder=-2,\n",
    "                )\n",
    "            )\n",
    "            ax.outline_patch.set_visible(False)\n",
    "            ax.background_patch.set_visible(False)\n",
    "            airports[\"LSZH\"].point.plot(\n",
    "                ax,\n",
    "                shift=dict(units=\"dots\", x=-15, y=-15),\n",
    "                marker=atc_tower,\n",
    "                s=300,\n",
    "                zorder=5,\n",
    "                text_kw={**text_style},\n",
    "            )\n",
    "            path = f\"{res_dir}_{nb_samples}/{file}_{method}_{param(lambda_kl)}\"\n",
    "            t = Traffic.from_file(f\"{path}.parquet\")\n",
    "            subset = t.query(\"initial_flow != 'N/A'\")\n",
    "            for (flow, d), color in zip(subset.groupby(gb), colors):\n",
    "                subset.query(f'{gb} == \"{flow}\"')[:50].plot(\n",
    "                    ax, color=color, linewidth=1.5, alpha=0.5, label=flow\n",
    "                )\n",
    "            if extent is None:\n",
    "                extent = ax.get_extent(PlateCarree())\n",
    "            ax.set_extent(extent)\n",
    "            ax.set_title(f\"{file} - {lambda_kl}\", fontsize=20, fontname=\"Ubuntu\")\n",
    "            legend_without_duplicate_labels(ax)\n",
    "            ax.grid(linestyle=\"solid\", alpha=0.5, zorder=-2)\n",
    "\n",
    "        fig.savefig(fig_path)"
   ]
  },
  {
   "cell_type": "code",
   "execution_count": null,
   "metadata": {},
   "outputs": [],
   "source": [
    "for i in range(2):\n",
    "    plot_trajs(\"artefact\", files[i], lambda_kls[:2])"
   ]
  },
  {
   "cell_type": "code",
   "execution_count": null,
   "metadata": {},
   "outputs": [],
   "source": [
    "import numpy as np\n",
    "from artefact.plot import plot_latent_and_trajs\n",
    "\n",
    "\n",
    "def plot_lat_trajs(method, file, lambda_kl):\n",
    "    path = f\"{res_dir}_{nb_samples}/{file}_{method}_{param(lambda_kl)}\"\n",
    "    if not os.path.exists(f\"{path}_lat_trajs.png\") or refresh_figs:\n",
    "        t = Traffic.from_file(f\"{path}.parquet\")\n",
    "        lat = np.load(f\"{path}_lat.npy\")\n",
    "        plot_latent_and_trajs(t, lat, f\"{path}_lat_trajs.png\", runway=None)"
   ]
  },
  {
   "cell_type": "code",
   "execution_count": null,
   "metadata": {},
   "outputs": [],
   "source": [
    "path = f\"{res_dir}_{nb_samples}/{file}_{method}_{param(lambda_kl)}\"\n",
    "method, files[1], lambda_kls[0]"
   ]
  },
  {
   "cell_type": "code",
   "execution_count": null,
   "metadata": {},
   "outputs": [],
   "source": [
    "for method in [\"artefact\", \"dcec\"]:\n",
    "    plot_lat_trajs(method, files[1], lambda_kls[0])"
   ]
  },
  {
   "cell_type": "code",
   "execution_count": null,
   "metadata": {},
   "outputs": [],
   "source": [
    "for i in range(2):\n",
    "    plot_lats(\"dcec\", files[i], lambda_kls)"
   ]
  },
  {
   "cell_type": "code",
   "execution_count": null,
   "metadata": {},
   "outputs": [],
   "source": [
    "for i in range(2):\n",
    "    plot_trajs(\"dcec\", files[i], lambda_kls[:2])"
   ]
  },
  {
   "cell_type": "code",
   "execution_count": null,
   "metadata": {},
   "outputs": [],
   "source": [
    "import pandas as pd\n",
    "\n",
    "\n",
    "def compute_scores(method, file, lambda_kl):\n",
    "    path = f\"{res_dir}_{nb_samples}/{file}_{method}_{param(lambda_kl)}\"\n",
    "    t = Traffic.from_file(f\"{path}.parquet\")\n",
    "\n",
    "    scores_path = f\"{res_dir}_{nb_samples}/{file}_{method}_{param(lambda_kl)}_scores\"\n",
    "    re, scores = None, None\n",
    "    npzfile = np.load(f\"{scores_path}.npz\")\n",
    "    re, scores = npzfile[\"arr_0\"], npzfile[\"arr_1\"]\n",
    "\n",
    "    t_re = pd.DataFrame.from_records(\n",
    "        [dict(flight_id=f.flight_id, re=re) for f, re in zip(t, re)]\n",
    "    )\n",
    "    t = t.merge(t_re, on=\"flight_id\")\n",
    "    d = {\"flight_id\": \"nunique\", \"re\": [\"mean\", \"min\", \"max\"]}\n",
    "\n",
    "    t_scores = pd.DataFrame.from_records(\n",
    "        [dict(flight_id=f.flight_id, score=score) for f, score in zip(t, scores)]\n",
    "    )\n",
    "    t = t.merge(t_scores, on=\"flight_id\")\n",
    "    d[\"score\"] = [\"mean\", \"min\", \"max\"]\n",
    "\n",
    "    return t\n",
    "\n",
    "\n",
    "def generate_score_table(method):\n",
    "    for file in files:\n",
    "        re_cumul, score_cumul = [], []\n",
    "        for i, lambda_kl in enumerate(lambda_kls):\n",
    "            re_cumul.append(\n",
    "                compute_scores(method, file, lambda_kl)\n",
    "                .groupby(\"flight_id\")[[\"re\"]]\n",
    "                .max()\n",
    "            )\n",
    "            score_cumul.append(\n",
    "                compute_scores(method, file, lambda_kl)\n",
    "                .groupby(\"flight_id\")[[\"score\"]]\n",
    "                .max()\n",
    "            )\n",
    "\n",
    "        import functools\n",
    "\n",
    "        l = list(\n",
    "            x.rename(columns=dict(re=f\"re_{lambda_kls[i]}\"))\n",
    "            for (i, x) in enumerate(re_cumul)\n",
    "        ) + list(\n",
    "            x.rename(columns=dict(score=f\"score_{lambda_kls[i]}\"))\n",
    "            for (i, x) in enumerate(score_cumul)\n",
    "        )\n",
    "        scores = functools.reduce(\n",
    "            lambda a, b: pd.merge(a, b, left_index=True, right_index=True), l\n",
    "        )\n",
    "        scores.to_parquet(f\"{res_dir}_{nb_samples}/{file}_{method}_scores.parquet\")"
   ]
  },
  {
   "cell_type": "code",
   "execution_count": null,
   "metadata": {},
   "outputs": [],
   "source": [
    "generate_score_table(\"artefact\")\n",
    "\n",
    "pd.read_parquet(f\"{res_dir}_{nb_samples}/{files[0]}_artefact_scores.parquet\")"
   ]
  },
  {
   "cell_type": "code",
   "execution_count": null,
   "metadata": {},
   "outputs": [],
   "source": [
    "generate_score_table(\"dcec\")\n",
    "\n",
    "pd.read_parquet(f\"{res_dir}_{nb_samples}/{files[0]}_dcec_scores.parquet\")"
   ]
  },
  {
   "cell_type": "code",
   "execution_count": null,
   "metadata": {},
   "outputs": [],
   "source": [
    "import numpy as np\n",
    "from traffic.core import Traffic\n",
    "from artefact.plot import plot_latent_and_trajs_outliers\n",
    "\n",
    "\n",
    "def plot_lat_trajs_outliers(method, file, lambda_kl):\n",
    "    path = f\"{res_dir}_{nb_samples}/{file}_{method}_{param(lambda_kl)}\"\n",
    "    if os.path.exists(f\"{path}_lat_trajs_outliers_re.png\") and not refresh_figs:\n",
    "        return\n",
    "\n",
    "    t = compute_scores(method, file, lambda_kl)\n",
    "    lat = np.load(f\"{path}_lat.npy\")\n",
    "\n",
    "    re = t.data.re\n",
    "    threshold = np.percentile(re, 95)\n",
    "    outliers = Traffic.from_flights(f for f in t if f.data.re.mean() > threshold)\n",
    "    plot_latent_and_trajs_outliers(\n",
    "        t,\n",
    "        lat,\n",
    "        outliers,\n",
    "        f\"{path}_lat_trajs_outliers_re.png\",\n",
    "        nb_top_outliers=10,\n",
    "        plot_callsigns=True,\n",
    "        re_or_score=\"re\",\n",
    "    )\n",
    "\n",
    "    scores = t.data.score\n",
    "    threshold = 0.02  # ????\n",
    "    outliers = Traffic.from_flights(f for f in t if f.data.score.mean() < threshold)\n",
    "    plot_latent_and_trajs_outliers(\n",
    "        t,\n",
    "        lat,\n",
    "        outliers,\n",
    "        f\"{path}_lat_trajs_outliers_score.png\",\n",
    "        nb_top_outliers=10,\n",
    "        plot_callsigns=True,\n",
    "        re_or_score=\"score\",\n",
    "    )"
   ]
  },
  {
   "cell_type": "code",
   "execution_count": null,
   "metadata": {},
   "outputs": [],
   "source": [
    "for file in files:\n",
    "    for lambda_kl in lambda_kls:\n",
    "        plot_lat_trajs_outliers(\"artefact\", file, lambda_kl)"
   ]
  },
  {
   "cell_type": "code",
   "execution_count": null,
   "metadata": {},
   "outputs": [],
   "source": [
    "for file in files:\n",
    "    for lambda_kl in lambda_kls:\n",
    "        plot_lat_trajs_outliers(\"dcec\", file, lambda_kl)"
   ]
  }
 ],
 "metadata": {
  "kernelspec": {
   "display_name": "Python 3",
   "language": "python",
   "name": "python3"
  },
  "language_info": {
   "codemirror_mode": {
    "name": "ipython",
    "version": 3
   },
   "file_extension": ".py",
   "mimetype": "text/x-python",
   "name": "python",
   "nbconvert_exporter": "python",
   "pygments_lexer": "ipython3",
   "version": "3.7.5"
  }
 },
 "nbformat": 4,
 "nbformat_minor": 4
}
