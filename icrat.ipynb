{
 "cells": [
  {
   "cell_type": "code",
   "execution_count": 1,
   "metadata": {},
   "outputs": [
    {
     "name": "stderr",
     "output_type": "stream",
     "text": [
      "/home/richard/anaconda3/envs/artefact/lib/python3.7/site-packages/pkg_resources/__init__.py:1151: DeprecationWarning: Use of .. or absolute path in a resource path is not allowed and will raise exceptions in a future release.\n",
      "  self, resource_name\n",
      "/home/richard/anaconda3/envs/artefact/lib/python3.7/site-packages/ipyleaflet/leaflet.py:317: DeprecationWarning: metadata {'dtype': None} was set from the constructor. With traitlets 4.1, metadata should be set using the .tag() method, e.g., Int().tag(key1='value1', key2='value2')\n",
      "  data = Dataset().tag(dtype=None, sync=True, to_json=ds_x_to_json)\n",
      "Using TensorFlow backend.\n",
      "/home/richard/anaconda3/envs/artefact/lib/python3.7/site-packages/keras/callbacks/callbacks.py:19: DeprecationWarning: Using or importing the ABCs from 'collections' instead of from 'collections.abc' is deprecated since Python 3.3,and in 3.9 it will stop working\n",
      "  from collections import Iterable\n"
     ]
    }
   ],
   "source": [
    "%matplotlib inline\n",
    "%load_ext lab_black\n",
    "import os\n",
    "from dcec.utils import input_shape, input_shape1d, input_shape_dense\n",
    "from dcec.model import CAE, CAE1d, dense\n",
    "\n",
    "list_features = [\"track_unwrapped\", \"longitude\", \"latitude\", \"altitude\"]\n",
    "nb_features = len(list_features)\n",
    "nb_samples = 64\n",
    "flow = \"162-216\"\n",
    "runway = \"14\"\n",
    "\n",
    "data_dir = \"./data\"\n",
    "res_dir = \"./res\"\n",
    "\n",
    "files = [\"lszh\", f\"lszh_{runway}\", f\"lszh_{flow}_{runway}\"]\n",
    "lambda_kls = [0.0, 0.07, 0.5]\n",
    "\n",
    "refresh_figs = True\n",
    "\n",
    "# CAE2D\n",
    "# sel_input_shape, sel_cae = input_shape, CAE\n",
    "\n",
    "# CAE1D\n",
    "# sel_input_shape, sel_cae = input_shape1d, CAE1d\n",
    "\n",
    "# dense\n",
    "sel_input_shape, sel_cae = input_shape_dense, dense\n",
    "\n",
    "\n",
    "def param(p):\n",
    "    return str(p).replace(\".\", \"_\")"
   ]
  },
  {
   "cell_type": "code",
   "execution_count": 2,
   "metadata": {},
   "outputs": [],
   "source": [
    "# Generating data\n",
    "if not os.path.exists(f\"{data_dir}_{nb_samples}\"):\n",
    "    from traffic.data.datasets import landing_zurich_2019 as t\n",
    "\n",
    "    os.makedirs(f\"{data_dir}_{nb_samples}\")\n",
    "\n",
    "    path = f\"{data_dir}_{nb_samples}/lszh.parquet\"\n",
    "    if not os.path.exists(path):\n",
    "        print(f\"Generating data for full traffic...\")\n",
    "        t_r = (\n",
    "            t.query(\"track == track\")\n",
    "            .resample(nb_samples)\n",
    "            .unwrap(\"track\")\n",
    "            .eval(max_workers=10)\n",
    "        )\n",
    "        t_r.to_parquet(path)\n",
    "\n",
    "    path = f\"{data_dir}_{nb_samples}/lszh_{runway}.parquet\"\n",
    "    if not os.path.exists(path):\n",
    "        print(f\"Generating data for {flow} and {runway}...\")\n",
    "        t_r = (\n",
    "            t.query(f\"track == track and runway =='{runway}'\")\n",
    "            .resample(nb_samples)\n",
    "            .unwrap(\"track\")\n",
    "            .eval(max_workers=10)\n",
    "        )\n",
    "        t_r.to_parquet(path)\n",
    "\n",
    "    path = f\"{data_dir}_{nb_samples}/lszh_{flow}_{runway}.parquet\"\n",
    "    if not os.path.exists(path):\n",
    "        print(f\"Generating data for {flow} and {runway}...\")\n",
    "        t_r = (\n",
    "            t.query(\n",
    "                f\"track == track and initial_flow == '{flow}' and runway =='{runway}'\"\n",
    "            )\n",
    "            .resample(nb_samples)\n",
    "            .unwrap(\"track\")\n",
    "            .eval(max_workers=10)\n",
    "        )\n",
    "        t_r.to_parquet(path)"
   ]
  },
  {
   "cell_type": "code",
   "execution_count": 3,
   "metadata": {},
   "outputs": [
    {
     "name": "stdout",
     "output_type": "stream",
     "text": [
      "Training autoencoder with data lszh and lambda_kl 0.0...\n"
     ]
    },
    {
     "name": "stderr",
     "output_type": "stream",
     "text": [
      "/home/richard/anaconda3/envs/artefact/lib/python3.7/site-packages/pyarrow/pandas_compat.py:294: DeprecationWarning: Using or importing the ABCs from 'collections' instead of from 'collections.abc' is deprecated since Python 3.3,and in 3.9 it will stop working\n",
      "  elif isinstance(name, collections.Sequence):\n"
     ]
    },
    {
     "name": "stdout",
     "output_type": "stream",
     "text": [
      "encoder Sequential(\n",
      "  (0): Linear(in_features=256, out_features=32, bias=True)\n",
      "  (1): ReLU()\n",
      "  (2): Linear(in_features=32, out_features=8, bias=True)\n",
      "  (3): ReLU()\n",
      "  (4): Linear(in_features=8, out_features=2, bias=True)\n",
      ")\n",
      "decoder Sequential(\n",
      "  (0): ReLU()\n",
      "  (1): Linear(in_features=2, out_features=8, bias=True)\n",
      "  (2): ReLU()\n",
      "  (3): Linear(in_features=8, out_features=32, bias=True)\n",
      "  (4): ReLU()\n",
      "  (5): Linear(in_features=32, out_features=256, bias=True)\n",
      "  (6): Sigmoid()\n",
      ")\n"
     ]
    },
    {
     "data": {
      "application/vnd.jupyter.widget-view+json": {
       "model_id": "e9f285ffbc004424a26935331304e940",
       "version_major": 2,
       "version_minor": 0
      },
      "text/plain": [
       "HBox(children=(IntProgress(value=0, description='batches', max=1, style=ProgressStyle(description_width='initi…"
      ]
     },
     "metadata": {},
     "output_type": "display_data"
    },
    {
     "data": {
      "application/vnd.jupyter.widget-view+json": {
       "model_id": "e155515911764330bed751b06e2fb0a6",
       "version_major": 2,
       "version_minor": 0
      },
      "text/plain": [
       "HBox(children=(IntProgress(value=0, max=5000), HTML(value='')))"
      ]
     },
     "metadata": {},
     "output_type": "display_data"
    },
    {
     "name": "stdout",
     "output_type": "stream",
     "text": [
      "\n",
      "Training autoencoder with data lszh and lambda_kl 0.07...\n",
      "encoder Sequential(\n",
      "  (0): Linear(in_features=256, out_features=32, bias=True)\n",
      "  (1): ReLU()\n",
      "  (2): Linear(in_features=32, out_features=8, bias=True)\n",
      "  (3): ReLU()\n",
      "  (4): Linear(in_features=8, out_features=2, bias=True)\n",
      ")\n",
      "decoder Sequential(\n",
      "  (0): ReLU()\n",
      "  (1): Linear(in_features=2, out_features=8, bias=True)\n",
      "  (2): ReLU()\n",
      "  (3): Linear(in_features=8, out_features=32, bias=True)\n",
      "  (4): ReLU()\n",
      "  (5): Linear(in_features=32, out_features=256, bias=True)\n",
      "  (6): Sigmoid()\n",
      ")\n"
     ]
    },
    {
     "data": {
      "application/vnd.jupyter.widget-view+json": {
       "model_id": "6dca1b8b030f4475876ae17cbbee2531",
       "version_major": 2,
       "version_minor": 0
      },
      "text/plain": [
       "HBox(children=(IntProgress(value=0, description='batches', max=20, style=ProgressStyle(description_width='init…"
      ]
     },
     "metadata": {},
     "output_type": "display_data"
    },
    {
     "data": {
      "application/vnd.jupyter.widget-view+json": {
       "model_id": "e47ff4f6749e4baaa1ed880115f0aa50",
       "version_major": 2,
       "version_minor": 0
      },
      "text/plain": [
       "HBox(children=(IntProgress(value=0, max=800), HTML(value='')))"
      ]
     },
     "metadata": {},
     "output_type": "display_data"
    },
    {
     "data": {
      "application/vnd.jupyter.widget-view+json": {
       "model_id": "189dad74db0e47d1ac61c4645c556fb0",
       "version_major": 2,
       "version_minor": 0
      },
      "text/plain": [
       "HBox(children=(IntProgress(value=0, max=800), HTML(value='')))"
      ]
     },
     "metadata": {},
     "output_type": "display_data"
    },
    {
     "data": {
      "application/vnd.jupyter.widget-view+json": {
       "model_id": "1de01210aa384b3c9ceb3679e48d7e61",
       "version_major": 2,
       "version_minor": 0
      },
      "text/plain": [
       "HBox(children=(IntProgress(value=0, max=800), HTML(value='')))"
      ]
     },
     "metadata": {},
     "output_type": "display_data"
    },
    {
     "data": {
      "application/vnd.jupyter.widget-view+json": {
       "model_id": "21a4437a1e094786a42c5ac6961f282c",
       "version_major": 2,
       "version_minor": 0
      },
      "text/plain": [
       "HBox(children=(IntProgress(value=0, max=800), HTML(value='')))"
      ]
     },
     "metadata": {},
     "output_type": "display_data"
    },
    {
     "data": {
      "application/vnd.jupyter.widget-view+json": {
       "model_id": "36923af7cd11430191f9349bcf172afb",
       "version_major": 2,
       "version_minor": 0
      },
      "text/plain": [
       "HBox(children=(IntProgress(value=0, max=800), HTML(value='')))"
      ]
     },
     "metadata": {},
     "output_type": "display_data"
    },
    {
     "data": {
      "application/vnd.jupyter.widget-view+json": {
       "model_id": "876a98ae0f4e4e82ae1292044302ac4e",
       "version_major": 2,
       "version_minor": 0
      },
      "text/plain": [
       "HBox(children=(IntProgress(value=0, max=800), HTML(value='')))"
      ]
     },
     "metadata": {},
     "output_type": "display_data"
    },
    {
     "data": {
      "application/vnd.jupyter.widget-view+json": {
       "model_id": "e2e1bf89aa9247a389fe75e1cd544c58",
       "version_major": 2,
       "version_minor": 0
      },
      "text/plain": [
       "HBox(children=(IntProgress(value=0, max=800), HTML(value='')))"
      ]
     },
     "metadata": {},
     "output_type": "display_data"
    },
    {
     "data": {
      "application/vnd.jupyter.widget-view+json": {
       "model_id": "4fb2b578d8364cb889fe012038a33aea",
       "version_major": 2,
       "version_minor": 0
      },
      "text/plain": [
       "HBox(children=(IntProgress(value=0, max=800), HTML(value='')))"
      ]
     },
     "metadata": {},
     "output_type": "display_data"
    },
    {
     "data": {
      "application/vnd.jupyter.widget-view+json": {
       "model_id": "60e20432e01b48338055bde5c8e7aeef",
       "version_major": 2,
       "version_minor": 0
      },
      "text/plain": [
       "HBox(children=(IntProgress(value=0, max=800), HTML(value='')))"
      ]
     },
     "metadata": {},
     "output_type": "display_data"
    },
    {
     "data": {
      "application/vnd.jupyter.widget-view+json": {
       "model_id": "1c3cf2d816a54342ba61907cb9ead6e5",
       "version_major": 2,
       "version_minor": 0
      },
      "text/plain": [
       "HBox(children=(IntProgress(value=0, max=800), HTML(value='')))"
      ]
     },
     "metadata": {},
     "output_type": "display_data"
    },
    {
     "data": {
      "application/vnd.jupyter.widget-view+json": {
       "model_id": "696319e742ae4bf795125362895ae08f",
       "version_major": 2,
       "version_minor": 0
      },
      "text/plain": [
       "HBox(children=(IntProgress(value=0, max=800), HTML(value='')))"
      ]
     },
     "metadata": {},
     "output_type": "display_data"
    },
    {
     "data": {
      "application/vnd.jupyter.widget-view+json": {
       "model_id": "0ef2ed2e0b14455e8f3aca6ba7ceb90d",
       "version_major": 2,
       "version_minor": 0
      },
      "text/plain": [
       "HBox(children=(IntProgress(value=0, max=800), HTML(value='')))"
      ]
     },
     "metadata": {},
     "output_type": "display_data"
    },
    {
     "data": {
      "application/vnd.jupyter.widget-view+json": {
       "model_id": "b0ee15360eec4261af72e04d7dd39106",
       "version_major": 2,
       "version_minor": 0
      },
      "text/plain": [
       "HBox(children=(IntProgress(value=0, max=800), HTML(value='')))"
      ]
     },
     "metadata": {},
     "output_type": "display_data"
    },
    {
     "data": {
      "application/vnd.jupyter.widget-view+json": {
       "model_id": "22d373a011894f61b48b1a9c2e9daef3",
       "version_major": 2,
       "version_minor": 0
      },
      "text/plain": [
       "HBox(children=(IntProgress(value=0, max=800), HTML(value='')))"
      ]
     },
     "metadata": {},
     "output_type": "display_data"
    },
    {
     "data": {
      "application/vnd.jupyter.widget-view+json": {
       "model_id": "bfcac293a4fe4b948713980c982f3b4d",
       "version_major": 2,
       "version_minor": 0
      },
      "text/plain": [
       "HBox(children=(IntProgress(value=0, max=800), HTML(value='')))"
      ]
     },
     "metadata": {},
     "output_type": "display_data"
    },
    {
     "data": {
      "application/vnd.jupyter.widget-view+json": {
       "model_id": "710a23fe42bd488ca0cd9173af005016",
       "version_major": 2,
       "version_minor": 0
      },
      "text/plain": [
       "HBox(children=(IntProgress(value=0, max=800), HTML(value='')))"
      ]
     },
     "metadata": {},
     "output_type": "display_data"
    },
    {
     "data": {
      "application/vnd.jupyter.widget-view+json": {
       "model_id": "1006138d69cc485997eec2687ea3df07",
       "version_major": 2,
       "version_minor": 0
      },
      "text/plain": [
       "HBox(children=(IntProgress(value=0, max=800), HTML(value='')))"
      ]
     },
     "metadata": {},
     "output_type": "display_data"
    },
    {
     "data": {
      "application/vnd.jupyter.widget-view+json": {
       "model_id": "569559d01b48477cb1516eede331513a",
       "version_major": 2,
       "version_minor": 0
      },
      "text/plain": [
       "HBox(children=(IntProgress(value=0, max=800), HTML(value='')))"
      ]
     },
     "metadata": {},
     "output_type": "display_data"
    },
    {
     "data": {
      "application/vnd.jupyter.widget-view+json": {
       "model_id": "3898016083dc46efb650083e68cfa23a",
       "version_major": 2,
       "version_minor": 0
      },
      "text/plain": [
       "HBox(children=(IntProgress(value=0, max=800), HTML(value='')))"
      ]
     },
     "metadata": {},
     "output_type": "display_data"
    },
    {
     "data": {
      "application/vnd.jupyter.widget-view+json": {
       "model_id": "6676fab4659c4f958b08980a6bc449ef",
       "version_major": 2,
       "version_minor": 0
      },
      "text/plain": [
       "HBox(children=(IntProgress(value=0, max=800), HTML(value='')))"
      ]
     },
     "metadata": {},
     "output_type": "display_data"
    },
    {
     "name": "stdout",
     "output_type": "stream",
     "text": [
      "\n",
      "Training autoencoder with data lszh and lambda_kl 0.5...\n",
      "encoder Sequential(\n",
      "  (0): Linear(in_features=256, out_features=32, bias=True)\n",
      "  (1): ReLU()\n",
      "  (2): Linear(in_features=32, out_features=8, bias=True)\n",
      "  (3): ReLU()\n",
      "  (4): Linear(in_features=8, out_features=2, bias=True)\n",
      ")\n",
      "decoder Sequential(\n",
      "  (0): ReLU()\n",
      "  (1): Linear(in_features=2, out_features=8, bias=True)\n",
      "  (2): ReLU()\n",
      "  (3): Linear(in_features=8, out_features=32, bias=True)\n",
      "  (4): ReLU()\n",
      "  (5): Linear(in_features=32, out_features=256, bias=True)\n",
      "  (6): Sigmoid()\n",
      ")\n"
     ]
    },
    {
     "data": {
      "application/vnd.jupyter.widget-view+json": {
       "model_id": "fafc388abb954a4fa9a9c05ed7220a39",
       "version_major": 2,
       "version_minor": 0
      },
      "text/plain": [
       "HBox(children=(IntProgress(value=0, description='batches', max=20, style=ProgressStyle(description_width='init…"
      ]
     },
     "metadata": {},
     "output_type": "display_data"
    },
    {
     "data": {
      "application/vnd.jupyter.widget-view+json": {
       "model_id": "2840a3181d8743eca1c4016d582f7422",
       "version_major": 2,
       "version_minor": 0
      },
      "text/plain": [
       "HBox(children=(IntProgress(value=0, max=800), HTML(value='')))"
      ]
     },
     "metadata": {},
     "output_type": "display_data"
    },
    {
     "data": {
      "application/vnd.jupyter.widget-view+json": {
       "model_id": "d3b0427440914063942f1535c1c86c26",
       "version_major": 2,
       "version_minor": 0
      },
      "text/plain": [
       "HBox(children=(IntProgress(value=0, max=800), HTML(value='')))"
      ]
     },
     "metadata": {},
     "output_type": "display_data"
    },
    {
     "data": {
      "application/vnd.jupyter.widget-view+json": {
       "model_id": "572e6bf1abf54a819801fc2dfe2ac48d",
       "version_major": 2,
       "version_minor": 0
      },
      "text/plain": [
       "HBox(children=(IntProgress(value=0, max=800), HTML(value='')))"
      ]
     },
     "metadata": {},
     "output_type": "display_data"
    },
    {
     "data": {
      "application/vnd.jupyter.widget-view+json": {
       "model_id": "714f0a2516754ce3a1f27d6c018d1853",
       "version_major": 2,
       "version_minor": 0
      },
      "text/plain": [
       "HBox(children=(IntProgress(value=0, max=800), HTML(value='')))"
      ]
     },
     "metadata": {},
     "output_type": "display_data"
    },
    {
     "data": {
      "application/vnd.jupyter.widget-view+json": {
       "model_id": "d7c9cefa690a4f809c5c06562ee2e23e",
       "version_major": 2,
       "version_minor": 0
      },
      "text/plain": [
       "HBox(children=(IntProgress(value=0, max=800), HTML(value='')))"
      ]
     },
     "metadata": {},
     "output_type": "display_data"
    },
    {
     "data": {
      "application/vnd.jupyter.widget-view+json": {
       "model_id": "043d1b07d657482d97a30614d57527a0",
       "version_major": 2,
       "version_minor": 0
      },
      "text/plain": [
       "HBox(children=(IntProgress(value=0, max=800), HTML(value='')))"
      ]
     },
     "metadata": {},
     "output_type": "display_data"
    },
    {
     "data": {
      "application/vnd.jupyter.widget-view+json": {
       "model_id": "c0a4adf963eb42bbaebbd6043f1b2bd4",
       "version_major": 2,
       "version_minor": 0
      },
      "text/plain": [
       "HBox(children=(IntProgress(value=0, max=800), HTML(value='')))"
      ]
     },
     "metadata": {},
     "output_type": "display_data"
    },
    {
     "data": {
      "application/vnd.jupyter.widget-view+json": {
       "model_id": "d720edcbb00c499dbd9e0e0e0d3bf6c3",
       "version_major": 2,
       "version_minor": 0
      },
      "text/plain": [
       "HBox(children=(IntProgress(value=0, max=800), HTML(value='')))"
      ]
     },
     "metadata": {},
     "output_type": "display_data"
    },
    {
     "data": {
      "application/vnd.jupyter.widget-view+json": {
       "model_id": "585c186f07a84ed196f4d263859c7ad4",
       "version_major": 2,
       "version_minor": 0
      },
      "text/plain": [
       "HBox(children=(IntProgress(value=0, max=800), HTML(value='')))"
      ]
     },
     "metadata": {},
     "output_type": "display_data"
    },
    {
     "data": {
      "application/vnd.jupyter.widget-view+json": {
       "model_id": "7a3698db2c3044169b07df17c171a394",
       "version_major": 2,
       "version_minor": 0
      },
      "text/plain": [
       "HBox(children=(IntProgress(value=0, max=800), HTML(value='')))"
      ]
     },
     "metadata": {},
     "output_type": "display_data"
    },
    {
     "data": {
      "application/vnd.jupyter.widget-view+json": {
       "model_id": "f75bda1acc384a74826c7f1c64f80dc1",
       "version_major": 2,
       "version_minor": 0
      },
      "text/plain": [
       "HBox(children=(IntProgress(value=0, max=800), HTML(value='')))"
      ]
     },
     "metadata": {},
     "output_type": "display_data"
    },
    {
     "data": {
      "application/vnd.jupyter.widget-view+json": {
       "model_id": "830fd81f5a54482b82bee928708c6016",
       "version_major": 2,
       "version_minor": 0
      },
      "text/plain": [
       "HBox(children=(IntProgress(value=0, max=800), HTML(value='')))"
      ]
     },
     "metadata": {},
     "output_type": "display_data"
    },
    {
     "data": {
      "application/vnd.jupyter.widget-view+json": {
       "model_id": "7170c5021a9b4919bc8ce17b83c7ac35",
       "version_major": 2,
       "version_minor": 0
      },
      "text/plain": [
       "HBox(children=(IntProgress(value=0, max=800), HTML(value='')))"
      ]
     },
     "metadata": {},
     "output_type": "display_data"
    },
    {
     "data": {
      "application/vnd.jupyter.widget-view+json": {
       "model_id": "60afc91393bb4256b98473de8fc42c78",
       "version_major": 2,
       "version_minor": 0
      },
      "text/plain": [
       "HBox(children=(IntProgress(value=0, max=800), HTML(value='')))"
      ]
     },
     "metadata": {},
     "output_type": "display_data"
    },
    {
     "data": {
      "application/vnd.jupyter.widget-view+json": {
       "model_id": "d6400710f0e34eb59aa636aecf7bbcd8",
       "version_major": 2,
       "version_minor": 0
      },
      "text/plain": [
       "HBox(children=(IntProgress(value=0, max=800), HTML(value='')))"
      ]
     },
     "metadata": {},
     "output_type": "display_data"
    },
    {
     "data": {
      "application/vnd.jupyter.widget-view+json": {
       "model_id": "c6a23de157ff49c29c9d9513b6e4cbbe",
       "version_major": 2,
       "version_minor": 0
      },
      "text/plain": [
       "HBox(children=(IntProgress(value=0, max=800), HTML(value='')))"
      ]
     },
     "metadata": {},
     "output_type": "display_data"
    },
    {
     "data": {
      "application/vnd.jupyter.widget-view+json": {
       "model_id": "6cde6e45eec34cf89903c47b0c7695c3",
       "version_major": 2,
       "version_minor": 0
      },
      "text/plain": [
       "HBox(children=(IntProgress(value=0, max=800), HTML(value='')))"
      ]
     },
     "metadata": {},
     "output_type": "display_data"
    },
    {
     "data": {
      "application/vnd.jupyter.widget-view+json": {
       "model_id": "ee9b62a4f6b94382821ea58c1822e551",
       "version_major": 2,
       "version_minor": 0
      },
      "text/plain": [
       "HBox(children=(IntProgress(value=0, max=800), HTML(value='')))"
      ]
     },
     "metadata": {},
     "output_type": "display_data"
    },
    {
     "data": {
      "application/vnd.jupyter.widget-view+json": {
       "model_id": "529aba051aca43b4b263e58514c2963b",
       "version_major": 2,
       "version_minor": 0
      },
      "text/plain": [
       "HBox(children=(IntProgress(value=0, max=800), HTML(value='')))"
      ]
     },
     "metadata": {},
     "output_type": "display_data"
    },
    {
     "data": {
      "application/vnd.jupyter.widget-view+json": {
       "model_id": "57ec3469c864462caffff38530243dd1",
       "version_major": 2,
       "version_minor": 0
      },
      "text/plain": [
       "HBox(children=(IntProgress(value=0, max=800), HTML(value='')))"
      ]
     },
     "metadata": {},
     "output_type": "display_data"
    },
    {
     "name": "stdout",
     "output_type": "stream",
     "text": [
      "\n",
      "Training autoencoder with data lszh_14 and lambda_kl 0.0...\n",
      "encoder Sequential(\n",
      "  (0): Linear(in_features=256, out_features=32, bias=True)\n",
      "  (1): ReLU()\n",
      "  (2): Linear(in_features=32, out_features=8, bias=True)\n",
      "  (3): ReLU()\n",
      "  (4): Linear(in_features=8, out_features=2, bias=True)\n",
      ")\n",
      "decoder Sequential(\n",
      "  (0): ReLU()\n",
      "  (1): Linear(in_features=2, out_features=8, bias=True)\n",
      "  (2): ReLU()\n",
      "  (3): Linear(in_features=8, out_features=32, bias=True)\n",
      "  (4): ReLU()\n",
      "  (5): Linear(in_features=32, out_features=256, bias=True)\n",
      "  (6): Sigmoid()\n",
      ")\n"
     ]
    },
    {
     "data": {
      "application/vnd.jupyter.widget-view+json": {
       "model_id": "3155837e9e764b0181db73cab756cb7c",
       "version_major": 2,
       "version_minor": 0
      },
      "text/plain": [
       "HBox(children=(IntProgress(value=0, description='batches', max=1, style=ProgressStyle(description_width='initi…"
      ]
     },
     "metadata": {},
     "output_type": "display_data"
    },
    {
     "data": {
      "application/vnd.jupyter.widget-view+json": {
       "model_id": "234a36dfcec34d608537136194bf0219",
       "version_major": 2,
       "version_minor": 0
      },
      "text/plain": [
       "HBox(children=(IntProgress(value=0, max=5000), HTML(value='')))"
      ]
     },
     "metadata": {},
     "output_type": "display_data"
    },
    {
     "name": "stdout",
     "output_type": "stream",
     "text": [
      "\n",
      "Training autoencoder with data lszh_14 and lambda_kl 0.07...\n",
      "encoder Sequential(\n",
      "  (0): Linear(in_features=256, out_features=32, bias=True)\n",
      "  (1): ReLU()\n",
      "  (2): Linear(in_features=32, out_features=8, bias=True)\n",
      "  (3): ReLU()\n",
      "  (4): Linear(in_features=8, out_features=2, bias=True)\n",
      ")\n",
      "decoder Sequential(\n",
      "  (0): ReLU()\n",
      "  (1): Linear(in_features=2, out_features=8, bias=True)\n",
      "  (2): ReLU()\n",
      "  (3): Linear(in_features=8, out_features=32, bias=True)\n",
      "  (4): ReLU()\n",
      "  (5): Linear(in_features=32, out_features=256, bias=True)\n",
      "  (6): Sigmoid()\n",
      ")\n"
     ]
    },
    {
     "data": {
      "application/vnd.jupyter.widget-view+json": {
       "model_id": "35255ba674894844900e4b6bb0e1b7c8",
       "version_major": 2,
       "version_minor": 0
      },
      "text/plain": [
       "HBox(children=(IntProgress(value=0, description='batches', max=15, style=ProgressStyle(description_width='init…"
      ]
     },
     "metadata": {},
     "output_type": "display_data"
    },
    {
     "data": {
      "application/vnd.jupyter.widget-view+json": {
       "model_id": "14d2737e799a4ae5af7ae64c4409083f",
       "version_major": 2,
       "version_minor": 0
      },
      "text/plain": [
       "HBox(children=(IntProgress(value=0, max=800), HTML(value='')))"
      ]
     },
     "metadata": {},
     "output_type": "display_data"
    },
    {
     "data": {
      "application/vnd.jupyter.widget-view+json": {
       "model_id": "e4c35171168c43d5a96ba115a1dca058",
       "version_major": 2,
       "version_minor": 0
      },
      "text/plain": [
       "HBox(children=(IntProgress(value=0, max=800), HTML(value='')))"
      ]
     },
     "metadata": {},
     "output_type": "display_data"
    },
    {
     "data": {
      "application/vnd.jupyter.widget-view+json": {
       "model_id": "038282894b6b40b896ef4df7b736da00",
       "version_major": 2,
       "version_minor": 0
      },
      "text/plain": [
       "HBox(children=(IntProgress(value=0, max=800), HTML(value='')))"
      ]
     },
     "metadata": {},
     "output_type": "display_data"
    },
    {
     "data": {
      "application/vnd.jupyter.widget-view+json": {
       "model_id": "fef67b9f7acc490887ed87316be920db",
       "version_major": 2,
       "version_minor": 0
      },
      "text/plain": [
       "HBox(children=(IntProgress(value=0, max=800), HTML(value='')))"
      ]
     },
     "metadata": {},
     "output_type": "display_data"
    },
    {
     "data": {
      "application/vnd.jupyter.widget-view+json": {
       "model_id": "3981e7366c8b4f9e85729b3dcf6c522f",
       "version_major": 2,
       "version_minor": 0
      },
      "text/plain": [
       "HBox(children=(IntProgress(value=0, max=800), HTML(value='')))"
      ]
     },
     "metadata": {},
     "output_type": "display_data"
    },
    {
     "data": {
      "application/vnd.jupyter.widget-view+json": {
       "model_id": "b74a746515ae4823bd380745f8413cb7",
       "version_major": 2,
       "version_minor": 0
      },
      "text/plain": [
       "HBox(children=(IntProgress(value=0, max=800), HTML(value='')))"
      ]
     },
     "metadata": {},
     "output_type": "display_data"
    },
    {
     "data": {
      "application/vnd.jupyter.widget-view+json": {
       "model_id": "09b1a6a9e4384c87b6d6dfc8ca8546a8",
       "version_major": 2,
       "version_minor": 0
      },
      "text/plain": [
       "HBox(children=(IntProgress(value=0, max=800), HTML(value='')))"
      ]
     },
     "metadata": {},
     "output_type": "display_data"
    },
    {
     "data": {
      "application/vnd.jupyter.widget-view+json": {
       "model_id": "9739684b14184f49ae693cd10bf52469",
       "version_major": 2,
       "version_minor": 0
      },
      "text/plain": [
       "HBox(children=(IntProgress(value=0, max=800), HTML(value='')))"
      ]
     },
     "metadata": {},
     "output_type": "display_data"
    },
    {
     "data": {
      "application/vnd.jupyter.widget-view+json": {
       "model_id": "01d44a6184934b17812ed144f1909d8f",
       "version_major": 2,
       "version_minor": 0
      },
      "text/plain": [
       "HBox(children=(IntProgress(value=0, max=800), HTML(value='')))"
      ]
     },
     "metadata": {},
     "output_type": "display_data"
    },
    {
     "data": {
      "application/vnd.jupyter.widget-view+json": {
       "model_id": "39947aa8248f4bbb8ed4cd7219d22563",
       "version_major": 2,
       "version_minor": 0
      },
      "text/plain": [
       "HBox(children=(IntProgress(value=0, max=800), HTML(value='')))"
      ]
     },
     "metadata": {},
     "output_type": "display_data"
    },
    {
     "data": {
      "application/vnd.jupyter.widget-view+json": {
       "model_id": "27996f2188f74d42b90b8c3570fd440f",
       "version_major": 2,
       "version_minor": 0
      },
      "text/plain": [
       "HBox(children=(IntProgress(value=0, max=800), HTML(value='')))"
      ]
     },
     "metadata": {},
     "output_type": "display_data"
    },
    {
     "data": {
      "application/vnd.jupyter.widget-view+json": {
       "model_id": "c5fda8c51c5f4dca81d6e8dc371e5834",
       "version_major": 2,
       "version_minor": 0
      },
      "text/plain": [
       "HBox(children=(IntProgress(value=0, max=800), HTML(value='')))"
      ]
     },
     "metadata": {},
     "output_type": "display_data"
    },
    {
     "data": {
      "application/vnd.jupyter.widget-view+json": {
       "model_id": "f9f5dff1d5d2446aa5fdfdbbc4183c67",
       "version_major": 2,
       "version_minor": 0
      },
      "text/plain": [
       "HBox(children=(IntProgress(value=0, max=800), HTML(value='')))"
      ]
     },
     "metadata": {},
     "output_type": "display_data"
    },
    {
     "data": {
      "application/vnd.jupyter.widget-view+json": {
       "model_id": "cfabcb39718449b9ae6da82fbc2c4257",
       "version_major": 2,
       "version_minor": 0
      },
      "text/plain": [
       "HBox(children=(IntProgress(value=0, max=800), HTML(value='')))"
      ]
     },
     "metadata": {},
     "output_type": "display_data"
    },
    {
     "data": {
      "application/vnd.jupyter.widget-view+json": {
       "model_id": "9071aefe215b4b388d0207f5f7280b24",
       "version_major": 2,
       "version_minor": 0
      },
      "text/plain": [
       "HBox(children=(IntProgress(value=0, max=800), HTML(value='')))"
      ]
     },
     "metadata": {},
     "output_type": "display_data"
    },
    {
     "name": "stdout",
     "output_type": "stream",
     "text": [
      "\n",
      "Training autoencoder with data lszh_14 and lambda_kl 0.5...\n",
      "encoder Sequential(\n",
      "  (0): Linear(in_features=256, out_features=32, bias=True)\n",
      "  (1): ReLU()\n",
      "  (2): Linear(in_features=32, out_features=8, bias=True)\n",
      "  (3): ReLU()\n",
      "  (4): Linear(in_features=8, out_features=2, bias=True)\n",
      ")\n",
      "decoder Sequential(\n",
      "  (0): ReLU()\n",
      "  (1): Linear(in_features=2, out_features=8, bias=True)\n",
      "  (2): ReLU()\n",
      "  (3): Linear(in_features=8, out_features=32, bias=True)\n",
      "  (4): ReLU()\n",
      "  (5): Linear(in_features=32, out_features=256, bias=True)\n",
      "  (6): Sigmoid()\n",
      ")\n"
     ]
    },
    {
     "data": {
      "application/vnd.jupyter.widget-view+json": {
       "model_id": "f8355be0caa94f30bf5710b40402663d",
       "version_major": 2,
       "version_minor": 0
      },
      "text/plain": [
       "HBox(children=(IntProgress(value=0, description='batches', max=15, style=ProgressStyle(description_width='init…"
      ]
     },
     "metadata": {},
     "output_type": "display_data"
    },
    {
     "data": {
      "application/vnd.jupyter.widget-view+json": {
       "model_id": "fa0a66bdaac946d3be6bfbb51571c951",
       "version_major": 2,
       "version_minor": 0
      },
      "text/plain": [
       "HBox(children=(IntProgress(value=0, max=800), HTML(value='')))"
      ]
     },
     "metadata": {},
     "output_type": "display_data"
    },
    {
     "data": {
      "application/vnd.jupyter.widget-view+json": {
       "model_id": "841304e0db764dbaaae3d36f842d82da",
       "version_major": 2,
       "version_minor": 0
      },
      "text/plain": [
       "HBox(children=(IntProgress(value=0, max=800), HTML(value='')))"
      ]
     },
     "metadata": {},
     "output_type": "display_data"
    },
    {
     "data": {
      "application/vnd.jupyter.widget-view+json": {
       "model_id": "5322273d7f2a44bdb76c594567dd1c43",
       "version_major": 2,
       "version_minor": 0
      },
      "text/plain": [
       "HBox(children=(IntProgress(value=0, max=800), HTML(value='')))"
      ]
     },
     "metadata": {},
     "output_type": "display_data"
    },
    {
     "data": {
      "application/vnd.jupyter.widget-view+json": {
       "model_id": "b962d27e69654012847b05c8332dc1d4",
       "version_major": 2,
       "version_minor": 0
      },
      "text/plain": [
       "HBox(children=(IntProgress(value=0, max=800), HTML(value='')))"
      ]
     },
     "metadata": {},
     "output_type": "display_data"
    },
    {
     "data": {
      "application/vnd.jupyter.widget-view+json": {
       "model_id": "4f03667375544f1e82e53380c2277ad2",
       "version_major": 2,
       "version_minor": 0
      },
      "text/plain": [
       "HBox(children=(IntProgress(value=0, max=800), HTML(value='')))"
      ]
     },
     "metadata": {},
     "output_type": "display_data"
    },
    {
     "data": {
      "application/vnd.jupyter.widget-view+json": {
       "model_id": "d1c5cf41946b4354869623cb47d02460",
       "version_major": 2,
       "version_minor": 0
      },
      "text/plain": [
       "HBox(children=(IntProgress(value=0, max=800), HTML(value='')))"
      ]
     },
     "metadata": {},
     "output_type": "display_data"
    },
    {
     "data": {
      "application/vnd.jupyter.widget-view+json": {
       "model_id": "d1ae46d3371c45be81c4027abdd3452c",
       "version_major": 2,
       "version_minor": 0
      },
      "text/plain": [
       "HBox(children=(IntProgress(value=0, max=800), HTML(value='')))"
      ]
     },
     "metadata": {},
     "output_type": "display_data"
    },
    {
     "data": {
      "application/vnd.jupyter.widget-view+json": {
       "model_id": "6173615b60ae43a0bb8d2ac335a69bf8",
       "version_major": 2,
       "version_minor": 0
      },
      "text/plain": [
       "HBox(children=(IntProgress(value=0, max=800), HTML(value='')))"
      ]
     },
     "metadata": {},
     "output_type": "display_data"
    },
    {
     "data": {
      "application/vnd.jupyter.widget-view+json": {
       "model_id": "6f24cdb048c24089a7eba86e1551e350",
       "version_major": 2,
       "version_minor": 0
      },
      "text/plain": [
       "HBox(children=(IntProgress(value=0, max=800), HTML(value='')))"
      ]
     },
     "metadata": {},
     "output_type": "display_data"
    },
    {
     "data": {
      "application/vnd.jupyter.widget-view+json": {
       "model_id": "dac2253ee4bd4377a0aecbeafb979cf5",
       "version_major": 2,
       "version_minor": 0
      },
      "text/plain": [
       "HBox(children=(IntProgress(value=0, max=800), HTML(value='')))"
      ]
     },
     "metadata": {},
     "output_type": "display_data"
    },
    {
     "data": {
      "application/vnd.jupyter.widget-view+json": {
       "model_id": "235b544b25e642ab8c09c6956c67a73b",
       "version_major": 2,
       "version_minor": 0
      },
      "text/plain": [
       "HBox(children=(IntProgress(value=0, max=800), HTML(value='')))"
      ]
     },
     "metadata": {},
     "output_type": "display_data"
    },
    {
     "data": {
      "application/vnd.jupyter.widget-view+json": {
       "model_id": "2571e71f75904f0f84697a67ae357b6b",
       "version_major": 2,
       "version_minor": 0
      },
      "text/plain": [
       "HBox(children=(IntProgress(value=0, max=800), HTML(value='')))"
      ]
     },
     "metadata": {},
     "output_type": "display_data"
    },
    {
     "data": {
      "application/vnd.jupyter.widget-view+json": {
       "model_id": "c2bff052f36a4a48abf1ed66f652164a",
       "version_major": 2,
       "version_minor": 0
      },
      "text/plain": [
       "HBox(children=(IntProgress(value=0, max=800), HTML(value='')))"
      ]
     },
     "metadata": {},
     "output_type": "display_data"
    },
    {
     "data": {
      "application/vnd.jupyter.widget-view+json": {
       "model_id": "95cae5848e4e48a5b8640b82d362128b",
       "version_major": 2,
       "version_minor": 0
      },
      "text/plain": [
       "HBox(children=(IntProgress(value=0, max=800), HTML(value='')))"
      ]
     },
     "metadata": {},
     "output_type": "display_data"
    },
    {
     "data": {
      "application/vnd.jupyter.widget-view+json": {
       "model_id": "24804cf504af4189b0e703753fa142f9",
       "version_major": 2,
       "version_minor": 0
      },
      "text/plain": [
       "HBox(children=(IntProgress(value=0, max=800), HTML(value='')))"
      ]
     },
     "metadata": {},
     "output_type": "display_data"
    },
    {
     "name": "stdout",
     "output_type": "stream",
     "text": [
      "\n",
      "Training autoencoder with data lszh_162-216_14 and lambda_kl 0.0...\n",
      "encoder Sequential(\n",
      "  (0): Linear(in_features=256, out_features=32, bias=True)\n",
      "  (1): ReLU()\n",
      "  (2): Linear(in_features=32, out_features=8, bias=True)\n",
      "  (3): ReLU()\n",
      "  (4): Linear(in_features=8, out_features=2, bias=True)\n",
      ")\n",
      "decoder Sequential(\n",
      "  (0): ReLU()\n",
      "  (1): Linear(in_features=2, out_features=8, bias=True)\n",
      "  (2): ReLU()\n",
      "  (3): Linear(in_features=8, out_features=32, bias=True)\n",
      "  (4): ReLU()\n",
      "  (5): Linear(in_features=32, out_features=256, bias=True)\n",
      "  (6): Sigmoid()\n",
      ")\n"
     ]
    },
    {
     "data": {
      "application/vnd.jupyter.widget-view+json": {
       "model_id": "2e6065e5e37140a2bf3e33f2eaedad7c",
       "version_major": 2,
       "version_minor": 0
      },
      "text/plain": [
       "HBox(children=(IntProgress(value=0, description='batches', max=1, style=ProgressStyle(description_width='initi…"
      ]
     },
     "metadata": {},
     "output_type": "display_data"
    },
    {
     "data": {
      "application/vnd.jupyter.widget-view+json": {
       "model_id": "0ebab0cd7d3048c3bfbd2a681384cea8",
       "version_major": 2,
       "version_minor": 0
      },
      "text/plain": [
       "HBox(children=(IntProgress(value=0, max=5000), HTML(value='')))"
      ]
     },
     "metadata": {},
     "output_type": "display_data"
    },
    {
     "name": "stdout",
     "output_type": "stream",
     "text": [
      "\n",
      "Training autoencoder with data lszh_162-216_14 and lambda_kl 0.07...\n",
      "encoder Sequential(\n",
      "  (0): Linear(in_features=256, out_features=32, bias=True)\n",
      "  (1): ReLU()\n",
      "  (2): Linear(in_features=32, out_features=8, bias=True)\n",
      "  (3): ReLU()\n",
      "  (4): Linear(in_features=8, out_features=2, bias=True)\n",
      ")\n",
      "decoder Sequential(\n",
      "  (0): ReLU()\n",
      "  (1): Linear(in_features=2, out_features=8, bias=True)\n",
      "  (2): ReLU()\n",
      "  (3): Linear(in_features=8, out_features=32, bias=True)\n",
      "  (4): ReLU()\n",
      "  (5): Linear(in_features=32, out_features=256, bias=True)\n",
      "  (6): Sigmoid()\n",
      ")\n"
     ]
    },
    {
     "data": {
      "application/vnd.jupyter.widget-view+json": {
       "model_id": "276c16ecaa554b6a8ab42aa600d6b3cb",
       "version_major": 2,
       "version_minor": 0
      },
      "text/plain": [
       "HBox(children=(IntProgress(value=0, description='batches', max=5, style=ProgressStyle(description_width='initi…"
      ]
     },
     "metadata": {},
     "output_type": "display_data"
    },
    {
     "data": {
      "application/vnd.jupyter.widget-view+json": {
       "model_id": "402335654b134e39a2041fb27f57958e",
       "version_major": 2,
       "version_minor": 0
      },
      "text/plain": [
       "HBox(children=(IntProgress(value=0, max=800), HTML(value='')))"
      ]
     },
     "metadata": {},
     "output_type": "display_data"
    },
    {
     "data": {
      "application/vnd.jupyter.widget-view+json": {
       "model_id": "bd49f3c19b7441d5832246a81361e8db",
       "version_major": 2,
       "version_minor": 0
      },
      "text/plain": [
       "HBox(children=(IntProgress(value=0, max=800), HTML(value='')))"
      ]
     },
     "metadata": {},
     "output_type": "display_data"
    },
    {
     "data": {
      "application/vnd.jupyter.widget-view+json": {
       "model_id": "bd99dad03c7b499c89f5bf20f3950329",
       "version_major": 2,
       "version_minor": 0
      },
      "text/plain": [
       "HBox(children=(IntProgress(value=0, max=800), HTML(value='')))"
      ]
     },
     "metadata": {},
     "output_type": "display_data"
    },
    {
     "data": {
      "application/vnd.jupyter.widget-view+json": {
       "model_id": "ce2893af6c024b2a97c801ae6889ece2",
       "version_major": 2,
       "version_minor": 0
      },
      "text/plain": [
       "HBox(children=(IntProgress(value=0, max=800), HTML(value='')))"
      ]
     },
     "metadata": {},
     "output_type": "display_data"
    },
    {
     "data": {
      "application/vnd.jupyter.widget-view+json": {
       "model_id": "189f6dba46bf4f9ebe9678c3de034788",
       "version_major": 2,
       "version_minor": 0
      },
      "text/plain": [
       "HBox(children=(IntProgress(value=0, max=800), HTML(value='')))"
      ]
     },
     "metadata": {},
     "output_type": "display_data"
    },
    {
     "name": "stdout",
     "output_type": "stream",
     "text": [
      "\n",
      "Training autoencoder with data lszh_162-216_14 and lambda_kl 0.5...\n",
      "encoder Sequential(\n",
      "  (0): Linear(in_features=256, out_features=32, bias=True)\n",
      "  (1): ReLU()\n",
      "  (2): Linear(in_features=32, out_features=8, bias=True)\n",
      "  (3): ReLU()\n",
      "  (4): Linear(in_features=8, out_features=2, bias=True)\n",
      ")\n",
      "decoder Sequential(\n",
      "  (0): ReLU()\n",
      "  (1): Linear(in_features=2, out_features=8, bias=True)\n",
      "  (2): ReLU()\n",
      "  (3): Linear(in_features=8, out_features=32, bias=True)\n",
      "  (4): ReLU()\n",
      "  (5): Linear(in_features=32, out_features=256, bias=True)\n",
      "  (6): Sigmoid()\n",
      ")\n"
     ]
    },
    {
     "data": {
      "application/vnd.jupyter.widget-view+json": {
       "model_id": "153a2692340b4788888d7cf42f064c9f",
       "version_major": 2,
       "version_minor": 0
      },
      "text/plain": [
       "HBox(children=(IntProgress(value=0, description='batches', max=5, style=ProgressStyle(description_width='initi…"
      ]
     },
     "metadata": {},
     "output_type": "display_data"
    },
    {
     "data": {
      "application/vnd.jupyter.widget-view+json": {
       "model_id": "cd095d751a7143fcba75a86a18bd5e43",
       "version_major": 2,
       "version_minor": 0
      },
      "text/plain": [
       "HBox(children=(IntProgress(value=0, max=800), HTML(value='')))"
      ]
     },
     "metadata": {},
     "output_type": "display_data"
    },
    {
     "data": {
      "application/vnd.jupyter.widget-view+json": {
       "model_id": "55b822c1a8ab443fb5ccd76def592a46",
       "version_major": 2,
       "version_minor": 0
      },
      "text/plain": [
       "HBox(children=(IntProgress(value=0, max=800), HTML(value='')))"
      ]
     },
     "metadata": {},
     "output_type": "display_data"
    },
    {
     "data": {
      "application/vnd.jupyter.widget-view+json": {
       "model_id": "155cb394f3314e62aca81b4429b02b66",
       "version_major": 2,
       "version_minor": 0
      },
      "text/plain": [
       "HBox(children=(IntProgress(value=0, max=800), HTML(value='')))"
      ]
     },
     "metadata": {},
     "output_type": "display_data"
    },
    {
     "data": {
      "application/vnd.jupyter.widget-view+json": {
       "model_id": "124bc7800edb48c98c1a6a88e30fd608",
       "version_major": 2,
       "version_minor": 0
      },
      "text/plain": [
       "HBox(children=(IntProgress(value=0, max=800), HTML(value='')))"
      ]
     },
     "metadata": {},
     "output_type": "display_data"
    },
    {
     "data": {
      "application/vnd.jupyter.widget-view+json": {
       "model_id": "17da328775834cf88877a363d6d10e35",
       "version_major": 2,
       "version_minor": 0
      },
      "text/plain": [
       "HBox(children=(IntProgress(value=0, max=800), HTML(value='')))"
      ]
     },
     "metadata": {},
     "output_type": "display_data"
    },
    {
     "name": "stdout",
     "output_type": "stream",
     "text": [
      "\n"
     ]
    }
   ],
   "source": [
    "# ARTEFACT clustering\n",
    "import numpy as np\n",
    "from sklearn.mixture import GaussianMixture\n",
    "from sklearn.preprocessing import MinMaxScaler\n",
    "from traffic.core import Traffic\n",
    "from artefact import AutoencoderTSNE, Autoencoder\n",
    "from artefact.clustering import get_latent\n",
    "from artefact.plot import plot_latent_and_trajs\n",
    "\n",
    "\n",
    "def artefact_clustering(file, lambda_kl):\n",
    "    if not os.path.exists(f\"{res_dir}_{nb_samples}\"):\n",
    "        os.makedirs(f\"{res_dir}_{nb_samples}\")\n",
    "\n",
    "    path = f\"{res_dir}_{nb_samples}/{file}_artefact_{param(lambda_kl)}\"\n",
    "    if not os.path.exists(f\"{path}.parquet\"):\n",
    "        print(f\"Training autoencoder with data {file} and lambda_kl {lambda_kl}...\")\n",
    "        t = Traffic.from_file(f\"{data_dir}_{nb_samples}/{file}.parquet\")\n",
    "        model = Autoencoder((nb_samples * nb_features, 32, 8, 2), reluout=False)\n",
    "        ae_tsne = AutoencoderTSNE(\n",
    "            gpu=0,\n",
    "            batch_size=1000 if lambda_kl > 0 else len(t),\n",
    "            model=model,\n",
    "            lambda_kl=lambda_kl,\n",
    "            nb_iterations=800 if lambda_kl > 0 else 5000,\n",
    "            algo_clustering=GaussianMixture(n_components=5 if file == \"lszh\" else 4),\n",
    "            distance_trajectory=\"euclidean\",  # delta_max\n",
    "            savepath=f\"{path}.pth\",\n",
    "        )\n",
    "        t_c = t.clustering(\n",
    "            nb_samples=None,  # nb_samples,\n",
    "            features=list_features,\n",
    "            clustering=ae_tsne,\n",
    "            transform=MinMaxScaler(feature_range=(-1, 1)),\n",
    "            max_workers=10,\n",
    "        ).fit_predict()\n",
    "        t_c.to_parquet(f\"{path}.parquet\")\n",
    "        #         np.save(\n",
    "        #             f\"{path}_x.npy\", ae_tsne.X,\n",
    "        #         )\n",
    "        np.savez(\n",
    "            f\"{path}_loss\",\n",
    "            loss=np.asarray(ae_tsne.loss[\"loss\"]),\n",
    "            re_loss=np.asarray(ae_tsne.loss[\"re_loss\"]),\n",
    "            kl_loss=np.asarray(ae_tsne.loss[\"kl_loss\"]),\n",
    "        )\n",
    "        np.save(f\"{path}_lat.npy\", ae_tsne.get_latent())\n",
    "        re, scores = ae_tsne.score_samples()\n",
    "        np.savez(f\"{path}_scores\", re, scores)\n",
    "\n",
    "\n",
    "for file in files:\n",
    "    for lambda_kl in lambda_kls:\n",
    "        artefact_clustering(file, lambda_kl)"
   ]
  },
  {
   "cell_type": "code",
   "execution_count": 4,
   "metadata": {},
   "outputs": [
    {
     "name": "stdout",
     "output_type": "stream",
     "text": [
      "Training dcec with data lszh and lambda_kl 0.0...\n"
     ]
    },
    {
     "ename": "TypeError",
     "evalue": "__init__() got an unexpected keyword argument 'filters'",
     "output_type": "error",
     "traceback": [
      "\u001b[0;31m---------------------------------------------------------------------------\u001b[0m",
      "\u001b[0;31mTypeError\u001b[0m                                 Traceback (most recent call last)",
      "\u001b[0;32m<ipython-input-4-3a36d83e82e3>\u001b[0m in \u001b[0;36m<module>\u001b[0;34m\u001b[0m\n\u001b[1;32m     54\u001b[0m \u001b[0;32mfor\u001b[0m \u001b[0mfile\u001b[0m \u001b[0;32min\u001b[0m \u001b[0mfiles\u001b[0m\u001b[0;34m:\u001b[0m\u001b[0;34m\u001b[0m\u001b[0;34m\u001b[0m\u001b[0m\n\u001b[1;32m     55\u001b[0m     \u001b[0;32mfor\u001b[0m \u001b[0mlambda_kl\u001b[0m \u001b[0;32min\u001b[0m \u001b[0mlambda_kls\u001b[0m\u001b[0;34m:\u001b[0m\u001b[0;34m\u001b[0m\u001b[0;34m\u001b[0m\u001b[0m\n\u001b[0;32m---> 56\u001b[0;31m         \u001b[0mdcec_clustering\u001b[0m\u001b[0;34m(\u001b[0m\u001b[0mfile\u001b[0m\u001b[0;34m,\u001b[0m \u001b[0mlambda_kl\u001b[0m\u001b[0;34m)\u001b[0m\u001b[0;34m\u001b[0m\u001b[0;34m\u001b[0m\u001b[0m\n\u001b[0m",
      "\u001b[0;32m<ipython-input-4-3a36d83e82e3>\u001b[0m in \u001b[0;36mdcec_clustering\u001b[0;34m(file, lambda_kl)\u001b[0m\n\u001b[1;32m     28\u001b[0m         \u001b[0mmaxiter\u001b[0m\u001b[0;34m=\u001b[0m\u001b[0;36m10000\u001b[0m\u001b[0;34m,\u001b[0m\u001b[0;34m\u001b[0m\u001b[0;34m\u001b[0m\u001b[0m\n\u001b[1;32m     29\u001b[0m         \u001b[0mupdate_interval\u001b[0m\u001b[0;34m=\u001b[0m\u001b[0;36m140\u001b[0m\u001b[0;34m,\u001b[0m\u001b[0;34m\u001b[0m\u001b[0;34m\u001b[0m\u001b[0m\n\u001b[0;32m---> 30\u001b[0;31m         \u001b[0msave_dir\u001b[0m\u001b[0;34m=\u001b[0m\u001b[0mpath\u001b[0m\u001b[0;34m,\u001b[0m\u001b[0;34m\u001b[0m\u001b[0;34m\u001b[0m\u001b[0m\n\u001b[0m\u001b[1;32m     31\u001b[0m     )\n\u001b[1;32m     32\u001b[0m \u001b[0;34m\u001b[0m\u001b[0m\n",
      "\u001b[0;31mTypeError\u001b[0m: __init__() got an unexpected keyword argument 'filters'"
     ]
    }
   ],
   "source": [
    "# DCEC clustering\n",
    "import numpy as np\n",
    "from sklearn.preprocessing import MinMaxScaler\n",
    "from traffic.core import Traffic\n",
    "from dcec.clustering import DCEC\n",
    "from dcec.utils import input_shape, input_shape1d\n",
    "\n",
    "\n",
    "def dcec_clustering(file, lambda_kl):\n",
    "    if not os.path.exists(f\"{res_dir}_{nb_samples}\"):\n",
    "        os.makedirs(f\"{res_dir}_{nb_samples}\")\n",
    "\n",
    "    path = f\"{res_dir}_{nb_samples}/{file}_dcec_{param(lambda_kl)}\"\n",
    "    if os.path.exists(f\"{path}.parquet\"):\n",
    "        return\n",
    "\n",
    "    print(f\"Training dcec with data {file} and lambda_kl {lambda_kl}...\")\n",
    "    t = Traffic.from_file(f\"{data_dir}_{nb_samples}/{file}.parquet\")\n",
    "\n",
    "    dcec = DCEC(\n",
    "        input_shape=sel_input_shape(nb_samples, nb_features),\n",
    "        filters=[32, 64, 2],\n",
    "        n_clusters=5 if file == \"lszh\" else 4,\n",
    "        cae=sel_cae,\n",
    "        lambda_kl=lambda_kl,\n",
    "        batch_size=1000,\n",
    "        epochs=1000,\n",
    "        maxiter=10000,\n",
    "        update_interval=140,\n",
    "        save_dir=path,\n",
    "    )\n",
    "\n",
    "    t_c = t.clustering(\n",
    "        nb_samples=None,\n",
    "        features=list_features,\n",
    "        clustering=dcec,\n",
    "        transform=MinMaxScaler(feature_range=(-1, 1)),\n",
    "    ).fit_predict()\n",
    "\n",
    "    t_c.to_parquet(f\"{path}.parquet\")\n",
    "    loss_evolution = np.asarray(dcec.loss_evolution).T\n",
    "    np.savez(\n",
    "        f\"{path}_loss\",\n",
    "        loss=loss_evolution[0],\n",
    "        kl_loss=loss_evolution[1],\n",
    "        re_loss=loss_evolution[2],\n",
    "    )\n",
    "    # np.save(f\"{path}_x.npy\", dcec.X)\n",
    "    np.save(f\"{path}_lat.npy\", dcec.extract_feature(dcec.X))\n",
    "    re, scores = dcec.score_samples(dcec.X)\n",
    "    np.savez(f\"{path}_scores\", re, scores)\n",
    "\n",
    "\n",
    "for file in files:\n",
    "    for lambda_kl in lambda_kls:\n",
    "        dcec_clustering(file, lambda_kl)"
   ]
  },
  {
   "cell_type": "code",
   "execution_count": null,
   "metadata": {},
   "outputs": [],
   "source": [
    "from keras.utils.vis_utils import plot_model\n",
    "\n",
    "model = sel_cae(\n",
    "    input_shape=sel_input_shape(nb_samples, nb_features), filters=[32, 64, 2]\n",
    ")\n",
    "plot_model(model, to_file=f\"{res_dir}_{nb_samples}/cae.png\", show_shapes=True)"
   ]
  },
  {
   "cell_type": "code",
   "execution_count": null,
   "metadata": {},
   "outputs": [],
   "source": [
    "import numpy as np\n",
    "from artefact.plot import plot_loss\n",
    "\n",
    "\n",
    "def plot_losses(method, file, lambda_kl):\n",
    "    path = f\"{res_dir}_{nb_samples}/{file}_{method}_{param(lambda_kl)}_loss\"\n",
    "    if not os.path.exists(f\"{path}.npz\") or refresh_figs:\n",
    "        loss = np.load(f\"{path}.npz\")\n",
    "        print(np.min(loss[\"loss\"]), np.min(loss[\"re_loss\"]), np.min(loss[\"kl_loss\"]))\n",
    "        plot_loss(loss[\"loss\"], loss[\"re_loss\"], loss[\"kl_loss\"], f\"{path}.png\")\n",
    "        # plt.show()\n",
    "\n",
    "\n",
    "for file in files:\n",
    "    for lambda_kl in lambda_kls:\n",
    "        plot_losses(\"dcec\", file, lambda_kl)"
   ]
  },
  {
   "cell_type": "code",
   "execution_count": null,
   "metadata": {},
   "outputs": [],
   "source": [
    "import matplotlib.pyplot as plt\n",
    "import numpy as np\n",
    "import pandas as pd\n",
    "from traffic.core import Traffic  # ,reluout=True\n",
    "\n",
    "\n",
    "def plot_lats(method, file, lambda_kls, gb=\"cluster\"):\n",
    "    fig_path = f\"{res_dir}_{nb_samples}/{file}_{method}_lat_{gb}.png\"\n",
    "    if os.path.exists(fig_path) and not refresh_figs:\n",
    "        return\n",
    "    colors = [\n",
    "        \"#1f77b4\",\n",
    "        \"#ff7f0e\",\n",
    "        \"#2ca02c\",\n",
    "        \"#d62728\",\n",
    "        \"#9467bd\",\n",
    "        \"#8c564b\",\n",
    "        \"#e377c2\",\n",
    "        \"#7f7f7f\",\n",
    "        \"#bcbd22\",\n",
    "        \"#17becf\",\n",
    "    ]\n",
    "    with plt.style.context(\"traffic\"):\n",
    "        fig, axs = plt.subplots(\n",
    "            1, len(lambda_kls), figsize=(15, 7.5), sharex=True, sharey=True\n",
    "        )\n",
    "        fig.text(\n",
    "            0.5,\n",
    "            0.04,\n",
    "            \"1st component on latent space\",\n",
    "            ha=\"center\",\n",
    "            va=\"center\",\n",
    "            fontsize=15,\n",
    "        )\n",
    "        fig.text(\n",
    "            0.06,\n",
    "            0.5,\n",
    "            \"2nd component on latent space\",\n",
    "            ha=\"center\",\n",
    "            va=\"center\",\n",
    "            rotation=\"vertical\",\n",
    "            fontsize=15,\n",
    "        )\n",
    "        for lambda_kl, ax in zip(lambda_kls, axs.reshape(-1)):\n",
    "            path = f\"{res_dir}_{nb_samples}/{file}_{method}_{param(lambda_kl)}\"\n",
    "            t = Traffic.from_file(f\"{path}.parquet\")\n",
    "            lat = np.load(f\"{path}_lat.npy\")\n",
    "            subset = t.query(\"initial_flow != 'N/A'\")\n",
    "            df = pd.DataFrame.from_records(\n",
    "                [\n",
    "                    {\"flight_id\": id_, \"x\": x, \"y\": y}\n",
    "                    for (id_, x, y) in zip(\n",
    "                        list(f.flight_id for f in t), lat[:, 0], lat[:, 1]\n",
    "                    )\n",
    "                ]\n",
    "            )\n",
    "            df = df.assign(\n",
    "                x=lambda df: (df.x - df.x.min()) / (df.x.max() - df.x.min()),\n",
    "                y=lambda df: (df.y - df.y.min()) / (df.y.max() - df.y.min()),\n",
    "            )\n",
    "            cols = [\"flight_id\", gb]\n",
    "            stasts = df.merge(subset.data[cols].drop_duplicates())\n",
    "            for (flow, d), color in zip(stasts.groupby(gb), colors):\n",
    "                d.plot.scatter(x=\"x\", y=\"y\", ax=ax, color=color, label=flow, alpha=0.4)\n",
    "\n",
    "            ax.set_title(f\"{file} - {lambda_kl}\", fontsize=20, fontname=\"Ubuntu\")\n",
    "            ax.set_xlabel(\"\")\n",
    "            ax.set_ylabel(\"\")\n",
    "            ax.legend(prop=dict(family=\"Ubuntu\", size=18))\n",
    "            ax.grid(linestyle=\"solid\", alpha=0.5, zorder=-2)\n",
    "        print(fig_path)\n",
    "        fig.savefig(fig_path)"
   ]
  },
  {
   "cell_type": "code",
   "execution_count": null,
   "metadata": {},
   "outputs": [],
   "source": [
    "for method in [\"artefact\", \"dcec\"]:\n",
    "    for file in files:\n",
    "        plot_lats(method, file, lambda_kls[1:3], gb=\"initial_flow\")"
   ]
  },
  {
   "cell_type": "code",
   "execution_count": null,
   "metadata": {},
   "outputs": [],
   "source": [
    "for i in range(2):\n",
    "    plot_lats(\"artefact\", files[i], lambda_kls, gb=\"cluster\")"
   ]
  },
  {
   "cell_type": "code",
   "execution_count": null,
   "metadata": {},
   "outputs": [],
   "source": [
    "import matplotlib.pyplot as plt\n",
    "import numpy as np\n",
    "import pandas as pd\n",
    "from traffic.core import Traffic\n",
    "from traffic.data import airports\n",
    "from traffic.drawing import EuroPP, PlateCarree, countries, rivers\n",
    "from traffic.drawing.markers import atc_tower\n",
    "\n",
    "\n",
    "def legend_without_duplicate_labels(ax):\n",
    "    handles, labels = ax.get_legend_handles_labels()\n",
    "    unique = [\n",
    "        (h, l) for i, (h, l) in enumerate(zip(handles, labels)) if l not in labels[:i]\n",
    "    ]\n",
    "    ax.legend(*zip(*unique), prop=dict(family=\"Ubuntu\", size=18))\n",
    "    # ax.legend(*zip(*unique))\n",
    "\n",
    "\n",
    "def plot_trajs(method, file, lambda_kls, gb=\"cluster\"):\n",
    "    fig_path = f\"{res_dir}_{nb_samples}/{file}_{method}_trajs_{gb}.png\"\n",
    "    if os.path.exists(fig_path) and not refresh_figs:\n",
    "        return\n",
    "\n",
    "    with plt.style.context(\"traffic\"):\n",
    "        text_style = dict(\n",
    "            verticalalignment=\"top\",\n",
    "            horizontalalignment=\"right\",\n",
    "            fontname=\"Ubuntu\",\n",
    "            fontsize=18,\n",
    "            bbox=dict(facecolor=\"white\", alpha=0.6, boxstyle=\"round\"),\n",
    "        )\n",
    "        colors = [\n",
    "            \"#1f77b4\",\n",
    "            \"#ff7f0e\",\n",
    "            \"#2ca02c\",\n",
    "            \"#d62728\",\n",
    "            \"#9467bd\",\n",
    "            \"#8c564b\",\n",
    "            \"#e377c2\",\n",
    "            \"#7f7f7f\",\n",
    "            \"#bcbd22\",\n",
    "            \"#17becf\",\n",
    "        ]\n",
    "        fig, axs = plt.subplots(\n",
    "            1,\n",
    "            len(lambda_kls),\n",
    "            figsize=(15, 7.5),\n",
    "            # sharex=True,\n",
    "            # sharey=True,\n",
    "            subplot_kw=dict(projection=EuroPP()),\n",
    "        )\n",
    "        extent = None\n",
    "        for lambda_kl, ax in zip(lambda_kls, axs.reshape(-1)):\n",
    "            ax.add_feature(\n",
    "                countries(\n",
    "                    edgecolor=\"white\",\n",
    "                    facecolor=\"#d9dadb\",\n",
    "                    alpha=1,\n",
    "                    linewidth=2,\n",
    "                    zorder=-2,\n",
    "                )\n",
    "            )\n",
    "            ax.outline_patch.set_visible(False)\n",
    "            ax.background_patch.set_visible(False)\n",
    "            airports[\"LSZH\"].point.plot(\n",
    "                ax,\n",
    "                shift=dict(units=\"dots\", x=-15, y=-15),\n",
    "                marker=atc_tower,\n",
    "                s=300,\n",
    "                zorder=5,\n",
    "                text_kw={**text_style},\n",
    "            )\n",
    "            path = f\"{res_dir}_{nb_samples}/{file}_{method}_{param(lambda_kl)}\"\n",
    "            t = Traffic.from_file(f\"{path}.parquet\")\n",
    "            subset = t.query(\"initial_flow != 'N/A'\")\n",
    "            for (flow, d), color in zip(subset.groupby(gb), colors):\n",
    "                subset.query(f'{gb} == \"{flow}\"')[:50].plot(\n",
    "                    ax, color=color, linewidth=1.5, alpha=0.5, label=flow\n",
    "                )\n",
    "            if extent is None:\n",
    "                extent = ax.get_extent(PlateCarree())\n",
    "            ax.set_extent(extent)\n",
    "            ax.set_title(f\"{file} - {lambda_kl}\", fontsize=20, fontname=\"Ubuntu\")\n",
    "            legend_without_duplicate_labels(ax)\n",
    "            ax.grid(linestyle=\"solid\", alpha=0.5, zorder=-2)\n",
    "\n",
    "        fig.savefig(fig_path)"
   ]
  },
  {
   "cell_type": "code",
   "execution_count": null,
   "metadata": {},
   "outputs": [],
   "source": [
    "for i in range(2):\n",
    "    plot_trajs(\"artefact\", files[i], lambda_kls[:2])"
   ]
  },
  {
   "cell_type": "code",
   "execution_count": null,
   "metadata": {},
   "outputs": [],
   "source": [
    "import numpy as np\n",
    "from artefact.plot import plot_latent_and_trajs\n",
    "\n",
    "\n",
    "def plot_lat_trajs(method, file, lambda_kl):\n",
    "    path = f\"{res_dir}_{nb_samples}/{file}_{method}_{param(lambda_kl)}\"\n",
    "    if not os.path.exists(f\"{path}_lat_trajs.png\") or refresh_figs:\n",
    "        t = Traffic.from_file(f\"{path}.parquet\")\n",
    "        lat = np.load(f\"{path}_lat.npy\")\n",
    "        plot_latent_and_trajs(t, lat, f\"{path}_lat_trajs.png\", runway=None)"
   ]
  },
  {
   "cell_type": "code",
   "execution_count": null,
   "metadata": {},
   "outputs": [],
   "source": [
    "path = f\"{res_dir}_{nb_samples}/{file}_{method}_{param(lambda_kl)}\"\n",
    "method, files[1], lambda_kls[0]"
   ]
  },
  {
   "cell_type": "code",
   "execution_count": null,
   "metadata": {},
   "outputs": [],
   "source": [
    "for method in [\"artefact\", \"dcec\"]:\n",
    "    plot_lat_trajs(method, files[1], lambda_kls[0])"
   ]
  },
  {
   "cell_type": "code",
   "execution_count": null,
   "metadata": {},
   "outputs": [],
   "source": [
    "for i in range(2):\n",
    "    plot_lats(\"dcec\", files[i], lambda_kls)"
   ]
  },
  {
   "cell_type": "code",
   "execution_count": null,
   "metadata": {},
   "outputs": [],
   "source": [
    "for i in range(2):\n",
    "    plot_trajs(\"dcec\", files[i], lambda_kls[:2])"
   ]
  },
  {
   "cell_type": "code",
   "execution_count": null,
   "metadata": {},
   "outputs": [],
   "source": [
    "import pandas as pd\n",
    "\n",
    "\n",
    "def compute_scores(method, file, lambda_kl):\n",
    "    path = f\"{res_dir}_{nb_samples}/{file}_{method}_{param(lambda_kl)}\"\n",
    "    t = Traffic.from_file(f\"{path}.parquet\")\n",
    "\n",
    "    scores_path = f\"{res_dir}_{nb_samples}/{file}_{method}_{param(lambda_kl)}_scores\"\n",
    "    re, scores = None, None\n",
    "    npzfile = np.load(f\"{scores_path}.npz\")\n",
    "    re, scores = npzfile[\"arr_0\"], npzfile[\"arr_1\"]\n",
    "\n",
    "    t_re = pd.DataFrame.from_records(\n",
    "        [dict(flight_id=f.flight_id, re=re) for f, re in zip(t, re)]\n",
    "    )\n",
    "    t = t.merge(t_re, on=\"flight_id\")\n",
    "    d = {\"flight_id\": \"nunique\", \"re\": [\"mean\", \"min\", \"max\"]}\n",
    "\n",
    "    t_scores = pd.DataFrame.from_records(\n",
    "        [dict(flight_id=f.flight_id, score=score) for f, score in zip(t, scores)]\n",
    "    )\n",
    "    t = t.merge(t_scores, on=\"flight_id\")\n",
    "    d[\"score\"] = [\"mean\", \"min\", \"max\"]\n",
    "\n",
    "    return t\n",
    "\n",
    "\n",
    "def generate_score_table(method):\n",
    "    for file in files:\n",
    "        re_cumul, score_cumul = [], []\n",
    "        for i, lambda_kl in enumerate(lambda_kls):\n",
    "            re_cumul.append(\n",
    "                compute_scores(method, file, lambda_kl)\n",
    "                .groupby(\"flight_id\")[[\"re\"]]\n",
    "                .max()\n",
    "            )\n",
    "            score_cumul.append(\n",
    "                compute_scores(method, file, lambda_kl)\n",
    "                .groupby(\"flight_id\")[[\"score\"]]\n",
    "                .max()\n",
    "            )\n",
    "\n",
    "        import functools\n",
    "\n",
    "        l = list(\n",
    "            x.rename(columns=dict(re=f\"re_{lambda_kls[i]}\"))\n",
    "            for (i, x) in enumerate(re_cumul)\n",
    "        ) + list(\n",
    "            x.rename(columns=dict(score=f\"score_{lambda_kls[i]}\"))\n",
    "            for (i, x) in enumerate(score_cumul)\n",
    "        )\n",
    "        scores = functools.reduce(\n",
    "            lambda a, b: pd.merge(a, b, left_index=True, right_index=True), l\n",
    "        )\n",
    "        scores.to_parquet(f\"{res_dir}_{nb_samples}/{file}_{method}_scores.parquet\")"
   ]
  },
  {
   "cell_type": "code",
   "execution_count": null,
   "metadata": {},
   "outputs": [],
   "source": [
    "generate_score_table(\"artefact\")\n",
    "\n",
    "pd.read_parquet(f\"{res_dir}_{nb_samples}/{files[0]}_artefact_scores.parquet\")"
   ]
  },
  {
   "cell_type": "code",
   "execution_count": null,
   "metadata": {},
   "outputs": [],
   "source": [
    "generate_score_table(\"dcec\")\n",
    "\n",
    "pd.read_parquet(f\"{res_dir}_{nb_samples}/{files[0]}_dcec_scores.parquet\")"
   ]
  },
  {
   "cell_type": "code",
   "execution_count": null,
   "metadata": {},
   "outputs": [],
   "source": [
    "import numpy as np\n",
    "from traffic.core import Traffic\n",
    "from artefact.plot import plot_latent_and_trajs_outliers\n",
    "\n",
    "\n",
    "def plot_lat_trajs_outliers(method, file, lambda_kl):\n",
    "    path = f\"{res_dir}_{nb_samples}/{file}_{method}_{param(lambda_kl)}\"\n",
    "    if os.path.exists(f\"{path}_lat_trajs_outliers_re.png\") and not refresh_figs:\n",
    "        return\n",
    "\n",
    "    t = compute_scores(method, file, lambda_kl)\n",
    "    lat = np.load(f\"{path}_lat.npy\")\n",
    "\n",
    "    re = t.data.re\n",
    "    threshold = np.percentile(re, 95)\n",
    "    outliers = Traffic.from_flights(f for f in t if f.data.re.mean() > threshold)\n",
    "    plot_latent_and_trajs_outliers(\n",
    "        t,\n",
    "        lat,\n",
    "        outliers,\n",
    "        f\"{path}_lat_trajs_outliers_re.png\",\n",
    "        nb_top_outliers=10,\n",
    "        plot_callsigns=True,\n",
    "        re_or_score=\"re\",\n",
    "    )\n",
    "\n",
    "    scores = t.data.score\n",
    "    threshold = 0.02  # ????\n",
    "    outliers = Traffic.from_flights(f for f in t if f.data.score.mean() < threshold)\n",
    "    plot_latent_and_trajs_outliers(\n",
    "        t,\n",
    "        lat,\n",
    "        outliers,\n",
    "        f\"{path}_lat_trajs_outliers_score.png\",\n",
    "        nb_top_outliers=10,\n",
    "        plot_callsigns=True,\n",
    "        re_or_score=\"score\",\n",
    "    )"
   ]
  },
  {
   "cell_type": "code",
   "execution_count": null,
   "metadata": {},
   "outputs": [],
   "source": [
    "for file in files:\n",
    "    for lambda_kl in lambda_kls:\n",
    "        plot_lat_trajs_outliers(\"artefact\", file, lambda_kl)"
   ]
  },
  {
   "cell_type": "code",
   "execution_count": null,
   "metadata": {},
   "outputs": [],
   "source": [
    "for file in files:\n",
    "    for lambda_kl in lambda_kls:\n",
    "        plot_lat_trajs_outliers(\"dcec\", file, lambda_kl)"
   ]
  }
 ],
 "metadata": {
  "kernelspec": {
   "display_name": "Python 3",
   "language": "python",
   "name": "python3"
  },
  "language_info": {
   "codemirror_mode": {
    "name": "ipython",
    "version": 3
   },
   "file_extension": ".py",
   "mimetype": "text/x-python",
   "name": "python",
   "nbconvert_exporter": "python",
   "pygments_lexer": "ipython3",
   "version": "3.7.5"
  }
 },
 "nbformat": 4,
 "nbformat_minor": 4
}
